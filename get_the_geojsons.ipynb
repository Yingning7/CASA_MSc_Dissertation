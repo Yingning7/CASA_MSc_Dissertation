{
 "cells": [
  {
   "cell_type": "code",
   "execution_count": 6,
   "id": "d1b88e80",
   "metadata": {},
   "outputs": [],
   "source": [
    "import requests\n",
    "import json\n",
    "import sys\n",
    "sys.path.append('C:/Users/danie/Desktop/yingning')\n",
    "\n",
    "import pandas as pd\n",
    "\n",
    "from data_utils import fetch_selected_dataset"
   ]
  },
  {
   "cell_type": "code",
   "execution_count": 2,
   "id": "a2647e04",
   "metadata": {},
   "outputs": [],
   "source": [
    "dataset = fetch_selected_dataset(True, 0, True)\n",
    "full = pd.concat([dataset['train']['X'], dataset['test']['X']], axis=0).reset_index().copy()\n",
    "all_code = full['code'].sort_values().unique().tolist()"
   ]
  },
  {
   "cell_type": "code",
   "execution_count": 3,
   "id": "1b31f563",
   "metadata": {},
   "outputs": [],
   "source": [
    "geojson = {}\n",
    "for code in all_code:\n",
    "    try:\n",
    "        resp = requests.get(f'https://findthatpostcode.uk/areas/{code}.geojson')\n",
    "        geojson[code] = resp.json()\n",
    "    except:\n",
    "        geojson[code] = None"
   ]
  },
  {
   "cell_type": "code",
   "execution_count": 21,
   "id": "6834457e",
   "metadata": {},
   "outputs": [],
   "source": [
    "for k, v in geojson.items():\n",
    "    with open(f'./geojson/{k}.geojson', mode='w') as fp:\n",
    "        json.dump(v, fp)"
   ]
  },
  {
   "cell_type": "code",
   "execution_count": null,
   "id": "757463c2",
   "metadata": {},
   "outputs": [],
   "source": []
  }
 ],
 "metadata": {
  "kernelspec": {
   "display_name": "Python 3 (ipykernel)",
   "language": "python",
   "name": "python3"
  },
  "language_info": {
   "codemirror_mode": {
    "name": "ipython",
    "version": 3
   },
   "file_extension": ".py",
   "mimetype": "text/x-python",
   "name": "python",
   "nbconvert_exporter": "python",
   "pygments_lexer": "ipython3",
   "version": "3.10.12"
  }
 },
 "nbformat": 4,
 "nbformat_minor": 5
}
