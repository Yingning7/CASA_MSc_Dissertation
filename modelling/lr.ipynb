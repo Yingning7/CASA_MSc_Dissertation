{
 "cells": [
  {
   "cell_type": "code",
   "execution_count": 1,
   "id": "bff3fde4",
   "metadata": {},
   "outputs": [],
   "source": [
    "from pprint import pprint\n",
    "import sys\n",
    "sys.path.append('C:/Users/danie/Desktop/yingning')\n",
    "\n",
    "from data_utils import fetch_selected_dataset, save_reses\n",
    "from models import lr"
   ]
  },
  {
   "cell_type": "code",
   "execution_count": 2,
   "id": "26a7f85a",
   "metadata": {},
   "outputs": [],
   "source": [
    "dataset_configs = [\n",
    "    (False, 0, False),\n",
    "    (False, 0, True),\n",
    "    (True, 0, False),\n",
    "    (True, 0, True),\n",
    "    (False, 1, False),\n",
    "    (False, 1, True),\n",
    "    (True, 1, False),\n",
    "    (True, 1, True)\n",
    "]\n",
    "model_func = lr\n",
    "folder_name = 'lr'"
   ]
  },
  {
   "cell_type": "code",
   "execution_count": 3,
   "id": "442fab89",
   "metadata": {},
   "outputs": [
    {
     "name": "stdout",
     "output_type": "stream",
     "text": [
      "{'test': {'r2': 0.8258017176379284, 'rmse': 55838.39525171279},\n",
      " 'train': {'r2': 0.9041195710413613, 'rmse': 39991.67072248284}}\n",
      "{'test': {'r2': -2.417002245529325, 'rmse': 247305.4153639447},\n",
      " 'train': {'r2': -3.0507916155671184, 'rmse': 259940.83815778166}}\n",
      "{'test': {'r2': 0.8294705902687814, 'rmse': 55247.24661161743},\n",
      " 'train': {'r2': 0.905998963117778, 'rmse': 39597.78432057342}}\n",
      "{'test': {'r2': 0.8294705902687614, 'rmse': 55247.2466116207},\n",
      " 'train': {'r2': 0.905998963117778, 'rmse': 39597.78432057342}}\n",
      "{'test': {'r2': 0.8630566962775221, 'rmse': 49676.37055953159},\n",
      " 'train': {'r2': 0.9037259384649221, 'rmse': 40487.7107093296}}\n",
      "{'test': {'r2': -2.7436271231915126, 'rmse': 259732.1737038576},\n",
      " 'train': {'r2': -3.041910798634806, 'rmse': 262338.4430172669}}\n",
      "{'test': {'r2': 0.8641163236738005, 'rmse': 49483.80669238078},\n",
      " 'train': {'r2': 0.9056065821540509, 'rmse': 40090.31143801677}}\n",
      "{'test': {'r2': 0.8641163236737994, 'rmse': 49483.80669238099},\n",
      " 'train': {'r2': 0.9056065821540507, 'rmse': 40090.3114380168}}\n"
     ]
    }
   ],
   "source": [
    "reses = {}\n",
    "for dataset_config in dataset_configs:\n",
    "    res = model_func(fetch_selected_dataset(*dataset_config))\n",
    "    reses[str(dataset_config)] = res\n",
    "    pprint(res['score'])\n",
    "save_reses(reses, folder_name)"
   ]
  },
  {
   "cell_type": "code",
   "execution_count": null,
   "id": "20a23a2f",
   "metadata": {},
   "outputs": [],
   "source": []
  }
 ],
 "metadata": {
  "kernelspec": {
   "display_name": "Python 3 (ipykernel)",
   "language": "python",
   "name": "python3"
  },
  "language_info": {
   "codemirror_mode": {
    "name": "ipython",
    "version": 3
   },
   "file_extension": ".py",
   "mimetype": "text/x-python",
   "name": "python",
   "nbconvert_exporter": "python",
   "pygments_lexer": "ipython3",
   "version": "3.10.12"
  }
 },
 "nbformat": 4,
 "nbformat_minor": 5
}
