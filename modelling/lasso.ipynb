{
 "cells": [
  {
   "cell_type": "code",
   "execution_count": 1,
   "id": "bff3fde4",
   "metadata": {},
   "outputs": [],
   "source": [
    "from pprint import pprint\n",
    "import sys\n",
    "sys.path.append('C:/Users/danie/Desktop/yingning')\n",
    "\n",
    "from data_utils import fetch_selected_dataset, save_reses\n",
    "from models import lasso"
   ]
  },
  {
   "cell_type": "code",
   "execution_count": 2,
   "id": "26a7f85a",
   "metadata": {},
   "outputs": [],
   "source": [
    "dataset_configs = [\n",
    "    (False, 0, False),\n",
    "    (False, 0, True),\n",
    "    (True, 0, False),\n",
    "    (True, 0, True),\n",
    "    (False, 1, False),\n",
    "    (False, 1, True),\n",
    "    (True, 1, False),\n",
    "    (True, 1, True)\n",
    "]\n",
    "model_func = lasso\n",
    "alphas = [0.001, 0.01, 0.1, 1., 10., 100., 1000.]\n",
    "folder_name = 'lasso_alpha{alpha}'"
   ]
  },
  {
   "cell_type": "code",
   "execution_count": 3,
   "id": "442fab89",
   "metadata": {
    "scrolled": true
   },
   "outputs": [
    {
     "name": "stderr",
     "output_type": "stream",
     "text": [
      "C:\\Users\\danie\\anaconda3\\envs\\yingning\\lib\\site-packages\\sklearn\\linear_model\\_coordinate_descent.py:628: ConvergenceWarning: Objective did not converge. You might want to increase the number of iterations, check the scale of the features or consider increasing regularisation. Duality gap: 3.653e+11, tolerance: 3.704e+09\n",
      "  model = cd_fast.enet_coordinate_descent(\n",
      "C:\\Users\\danie\\anaconda3\\envs\\yingning\\lib\\site-packages\\sklearn\\linear_model\\_coordinate_descent.py:628: ConvergenceWarning: Objective did not converge. You might want to increase the number of iterations, check the scale of the features or consider increasing regularisation. Duality gap: 1.514e+13, tolerance: 3.704e+09\n",
      "  model = cd_fast.enet_coordinate_descent(\n"
     ]
    },
    {
     "name": "stdout",
     "output_type": "stream",
     "text": [
      "{'test': {'r2': 0.8360873104072258, 'rmse': 54164.81730002894},\n",
      " 'train': {'r2': 0.9022403351713302, 'rmse': 40381.68304629393}}\n",
      "{'test': {'r2': -2.495472996960496, 'rmse': 250128.95578711192},\n",
      " 'train': {'r2': -3.053056527125201, 'rmse': 260013.4981205656}}\n"
     ]
    },
    {
     "name": "stderr",
     "output_type": "stream",
     "text": [
      "C:\\Users\\danie\\anaconda3\\envs\\yingning\\lib\\site-packages\\sklearn\\linear_model\\_coordinate_descent.py:628: ConvergenceWarning: Objective did not converge. You might want to increase the number of iterations, check the scale of the features or consider increasing regularisation. Duality gap: 3.599e+11, tolerance: 3.704e+09\n",
      "  model = cd_fast.enet_coordinate_descent(\n",
      "C:\\Users\\danie\\anaconda3\\envs\\yingning\\lib\\site-packages\\sklearn\\linear_model\\_coordinate_descent.py:628: ConvergenceWarning: Objective did not converge. You might want to increase the number of iterations, check the scale of the features or consider increasing regularisation. Duality gap: 3.597e+11, tolerance: 3.704e+09\n",
      "  model = cd_fast.enet_coordinate_descent(\n"
     ]
    },
    {
     "name": "stdout",
     "output_type": "stream",
     "text": [
      "{'test': {'r2': 0.843252539630825, 'rmse': 52967.71655703735},\n",
      " 'train': {'r2': 0.9036751537803708, 'rmse': 40084.24666090747}}\n",
      "{'test': {'r2': 0.84427471842246, 'rmse': 52794.728000777744},\n",
      " 'train': {'r2': 0.9037340515596899, 'rmse': 40071.99004070134}}\n"
     ]
    },
    {
     "name": "stderr",
     "output_type": "stream",
     "text": [
      "C:\\Users\\danie\\anaconda3\\envs\\yingning\\lib\\site-packages\\sklearn\\linear_model\\_coordinate_descent.py:628: ConvergenceWarning: Objective did not converge. You might want to increase the number of iterations, check the scale of the features or consider increasing regularisation. Duality gap: 3.747e+11, tolerance: 3.774e+09\n",
      "  model = cd_fast.enet_coordinate_descent(\n",
      "C:\\Users\\danie\\anaconda3\\envs\\yingning\\lib\\site-packages\\sklearn\\linear_model\\_coordinate_descent.py:628: ConvergenceWarning: Objective did not converge. You might want to increase the number of iterations, check the scale of the features or consider increasing regularisation. Duality gap: 1.542e+13, tolerance: 3.774e+09\n",
      "  model = cd_fast.enet_coordinate_descent(\n"
     ]
    },
    {
     "name": "stdout",
     "output_type": "stream",
     "text": [
      "{'test': {'r2': 0.8726506571669657, 'rmse': 47904.66546443603},\n",
      " 'train': {'r2': 0.9017470606212038, 'rmse': 40901.6991690392}}\n",
      "{'test': {'r2': -2.833847490024538, 'rmse': 262843.27749124734},\n",
      " 'train': {'r2': -3.044283455051615, 'rmse': 262415.4298315455}}\n"
     ]
    },
    {
     "name": "stderr",
     "output_type": "stream",
     "text": [
      "C:\\Users\\danie\\anaconda3\\envs\\yingning\\lib\\site-packages\\sklearn\\linear_model\\_coordinate_descent.py:628: ConvergenceWarning: Objective did not converge. You might want to increase the number of iterations, check the scale of the features or consider increasing regularisation. Duality gap: 3.693e+11, tolerance: 3.774e+09\n",
      "  model = cd_fast.enet_coordinate_descent(\n",
      "C:\\Users\\danie\\anaconda3\\envs\\yingning\\lib\\site-packages\\sklearn\\linear_model\\_coordinate_descent.py:628: ConvergenceWarning: Objective did not converge. You might want to increase the number of iterations, check the scale of the features or consider increasing regularisation. Duality gap: 3.690e+11, tolerance: 3.774e+09\n",
      "  model = cd_fast.enet_coordinate_descent(\n"
     ]
    },
    {
     "name": "stdout",
     "output_type": "stream",
     "text": [
      "{'test': {'r2': 0.8763347611672407, 'rmse': 47206.66042068726},\n",
      " 'train': {'r2': 0.9031727019203349, 'rmse': 40603.87488538935}}\n",
      "{'test': {'r2': 0.8763561672438008, 'rmse': 47202.57457922746},\n",
      " 'train': {'r2': 0.9032339257372363, 'rmse': 40591.035958056906}}\n"
     ]
    },
    {
     "name": "stderr",
     "output_type": "stream",
     "text": [
      "C:\\Users\\danie\\anaconda3\\envs\\yingning\\lib\\site-packages\\sklearn\\linear_model\\_coordinate_descent.py:628: ConvergenceWarning: Objective did not converge. You might want to increase the number of iterations, check the scale of the features or consider increasing regularisation. Duality gap: 3.653e+11, tolerance: 3.704e+09\n",
      "  model = cd_fast.enet_coordinate_descent(\n",
      "C:\\Users\\danie\\anaconda3\\envs\\yingning\\lib\\site-packages\\sklearn\\linear_model\\_coordinate_descent.py:628: ConvergenceWarning: Objective did not converge. You might want to increase the number of iterations, check the scale of the features or consider increasing regularisation. Duality gap: 1.513e+13, tolerance: 3.704e+09\n",
      "  model = cd_fast.enet_coordinate_descent(\n"
     ]
    },
    {
     "name": "stdout",
     "output_type": "stream",
     "text": [
      "{'test': {'r2': 0.8360873166639956, 'rmse': 54164.81626625665},\n",
      " 'train': {'r2': 0.9022403350350123, 'rmse': 40381.68307444839}}\n",
      "{'test': {'r2': -2.495474093968686, 'rmse': 250128.99503694903},\n",
      " 'train': {'r2': -3.0530565791835027, 'rmse': 260013.49979039936}}\n"
     ]
    },
    {
     "name": "stderr",
     "output_type": "stream",
     "text": [
      "C:\\Users\\danie\\anaconda3\\envs\\yingning\\lib\\site-packages\\sklearn\\linear_model\\_coordinate_descent.py:628: ConvergenceWarning: Objective did not converge. You might want to increase the number of iterations, check the scale of the features or consider increasing regularisation. Duality gap: 3.599e+11, tolerance: 3.704e+09\n",
      "  model = cd_fast.enet_coordinate_descent(\n",
      "C:\\Users\\danie\\anaconda3\\envs\\yingning\\lib\\site-packages\\sklearn\\linear_model\\_coordinate_descent.py:628: ConvergenceWarning: Objective did not converge. You might want to increase the number of iterations, check the scale of the features or consider increasing regularisation. Duality gap: 3.594e+11, tolerance: 3.704e+09\n",
      "  model = cd_fast.enet_coordinate_descent(\n"
     ]
    },
    {
     "name": "stdout",
     "output_type": "stream",
     "text": [
      "{'test': {'r2': 0.8432524102168053, 'rmse': 52967.73842266656},\n",
      " 'train': {'r2': 0.9036751575279893, 'rmse': 40084.24588114776}}\n",
      "{'test': {'r2': 0.8442756262389224, 'rmse': 52794.57411441913},\n",
      " 'train': {'r2': 0.903733999501382, 'rmse': 40072.000875683734}}\n"
     ]
    },
    {
     "name": "stderr",
     "output_type": "stream",
     "text": [
      "C:\\Users\\danie\\anaconda3\\envs\\yingning\\lib\\site-packages\\sklearn\\linear_model\\_coordinate_descent.py:628: ConvergenceWarning: Objective did not converge. You might want to increase the number of iterations, check the scale of the features or consider increasing regularisation. Duality gap: 3.747e+11, tolerance: 3.774e+09\n",
      "  model = cd_fast.enet_coordinate_descent(\n",
      "C:\\Users\\danie\\anaconda3\\envs\\yingning\\lib\\site-packages\\sklearn\\linear_model\\_coordinate_descent.py:628: ConvergenceWarning: Objective did not converge. You might want to increase the number of iterations, check the scale of the features or consider increasing regularisation. Duality gap: 1.541e+13, tolerance: 3.774e+09\n",
      "  model = cd_fast.enet_coordinate_descent(\n"
     ]
    },
    {
     "name": "stdout",
     "output_type": "stream",
     "text": [
      "{'test': {'r2': 0.8726506637925017, 'rmse': 47904.664218280835},\n",
      " 'train': {'r2': 0.901747060484882, 'rmse': 40901.6991974139}}\n",
      "{'test': {'r2': -2.83384815406602, 'rmse': 262843.30025412876},\n",
      " 'train': {'r2': -3.044283507815642, 'rmse': 262415.43154335616}}\n"
     ]
    },
    {
     "name": "stderr",
     "output_type": "stream",
     "text": [
      "C:\\Users\\danie\\anaconda3\\envs\\yingning\\lib\\site-packages\\sklearn\\linear_model\\_coordinate_descent.py:628: ConvergenceWarning: Objective did not converge. You might want to increase the number of iterations, check the scale of the features or consider increasing regularisation. Duality gap: 3.693e+11, tolerance: 3.774e+09\n",
      "  model = cd_fast.enet_coordinate_descent(\n",
      "C:\\Users\\danie\\anaconda3\\envs\\yingning\\lib\\site-packages\\sklearn\\linear_model\\_coordinate_descent.py:628: ConvergenceWarning: Objective did not converge. You might want to increase the number of iterations, check the scale of the features or consider increasing regularisation. Duality gap: 3.688e+11, tolerance: 3.774e+09\n",
      "  model = cd_fast.enet_coordinate_descent(\n"
     ]
    },
    {
     "name": "stdout",
     "output_type": "stream",
     "text": [
      "{'test': {'r2': 0.876334716113764, 'rmse': 47206.66901980535},\n",
      " 'train': {'r2': 0.9031727056156007, 'rmse': 40603.874110596924}}\n",
      "{'test': {'r2': 0.8763570122222921, 'rmse': 47202.41328841534},\n",
      " 'train': {'r2': 0.9032338729732038, 'rmse': 40591.047024675354}}\n"
     ]
    },
    {
     "name": "stderr",
     "output_type": "stream",
     "text": [
      "C:\\Users\\danie\\anaconda3\\envs\\yingning\\lib\\site-packages\\sklearn\\linear_model\\_coordinate_descent.py:628: ConvergenceWarning: Objective did not converge. You might want to increase the number of iterations, check the scale of the features or consider increasing regularisation. Duality gap: 3.653e+11, tolerance: 3.704e+09\n",
      "  model = cd_fast.enet_coordinate_descent(\n",
      "C:\\Users\\danie\\anaconda3\\envs\\yingning\\lib\\site-packages\\sklearn\\linear_model\\_coordinate_descent.py:628: ConvergenceWarning: Objective did not converge. You might want to increase the number of iterations, check the scale of the features or consider increasing regularisation. Duality gap: 1.502e+13, tolerance: 3.704e+09\n",
      "  model = cd_fast.enet_coordinate_descent(\n"
     ]
    },
    {
     "name": "stdout",
     "output_type": "stream",
     "text": [
      "{'test': {'r2': 0.8360873792311044, 'rmse': 54164.8059286299},\n",
      " 'train': {'r2': 0.9022403336710325, 'rmse': 40381.68335615866}}\n",
      "{'test': {'r2': -2.4954850673544433, 'rmse': 250129.3876531899},\n",
      " 'train': {'r2': -3.0530571007498555, 'rmse': 260013.51652027786}}\n"
     ]
    },
    {
     "name": "stderr",
     "output_type": "stream",
     "text": [
      "C:\\Users\\danie\\anaconda3\\envs\\yingning\\lib\\site-packages\\sklearn\\linear_model\\_coordinate_descent.py:628: ConvergenceWarning: Objective did not converge. You might want to increase the number of iterations, check the scale of the features or consider increasing regularisation. Duality gap: 3.599e+11, tolerance: 3.704e+09\n",
      "  model = cd_fast.enet_coordinate_descent(\n",
      "C:\\Users\\danie\\anaconda3\\envs\\yingning\\lib\\site-packages\\sklearn\\linear_model\\_coordinate_descent.py:628: ConvergenceWarning: Objective did not converge. You might want to increase the number of iterations, check the scale of the features or consider increasing regularisation. Duality gap: 3.567e+11, tolerance: 3.704e+09\n",
      "  model = cd_fast.enet_coordinate_descent(\n"
     ]
    },
    {
     "name": "stdout",
     "output_type": "stream",
     "text": [
      "{'test': {'r2': 0.8432511159332615, 'rmse': 52967.9571026819},\n",
      " 'train': {'r2': 0.9036751948802971, 'rmse': 40084.23810932484}}\n",
      "{'test': {'r2': 0.8442847010913921, 'rmse': 52793.03578763104},\n",
      " 'train': {'r2': 0.9037334779344357, 'rmse': 40072.109430119956}}\n"
     ]
    },
    {
     "name": "stderr",
     "output_type": "stream",
     "text": [
      "C:\\Users\\danie\\anaconda3\\envs\\yingning\\lib\\site-packages\\sklearn\\linear_model\\_coordinate_descent.py:628: ConvergenceWarning: Objective did not converge. You might want to increase the number of iterations, check the scale of the features or consider increasing regularisation. Duality gap: 3.747e+11, tolerance: 3.774e+09\n",
      "  model = cd_fast.enet_coordinate_descent(\n",
      "C:\\Users\\danie\\anaconda3\\envs\\yingning\\lib\\site-packages\\sklearn\\linear_model\\_coordinate_descent.py:628: ConvergenceWarning: Objective did not converge. You might want to increase the number of iterations, check the scale of the features or consider increasing regularisation. Duality gap: 1.530e+13, tolerance: 3.774e+09\n",
      "  model = cd_fast.enet_coordinate_descent(\n"
     ]
    },
    {
     "name": "stdout",
     "output_type": "stream",
     "text": [
      "{'test': {'r2': 0.872650730047254, 'rmse': 47904.651756841406},\n",
      " 'train': {'r2': 0.9017470591208767, 'rmse': 40901.69948132464}}\n",
      "{'test': {'r2': -2.833854798451636, 'rmse': 262843.528018951},\n",
      " 'train': {'r2': -3.0442840364192296, 'rmse': 262415.44869271445}}\n"
     ]
    },
    {
     "name": "stderr",
     "output_type": "stream",
     "text": [
      "C:\\Users\\danie\\anaconda3\\envs\\yingning\\lib\\site-packages\\sklearn\\linear_model\\_coordinate_descent.py:628: ConvergenceWarning: Objective did not converge. You might want to increase the number of iterations, check the scale of the features or consider increasing regularisation. Duality gap: 3.693e+11, tolerance: 3.774e+09\n",
      "  model = cd_fast.enet_coordinate_descent(\n",
      "C:\\Users\\danie\\anaconda3\\envs\\yingning\\lib\\site-packages\\sklearn\\linear_model\\_coordinate_descent.py:628: ConvergenceWarning: Objective did not converge. You might want to increase the number of iterations, check the scale of the features or consider increasing regularisation. Duality gap: 3.661e+11, tolerance: 3.774e+09\n",
      "  model = cd_fast.enet_coordinate_descent(\n"
     ]
    },
    {
     "name": "stdout",
     "output_type": "stream",
     "text": [
      "{'test': {'r2': 0.8763342654417821, 'rmse': 47206.755037089424},\n",
      " 'train': {'r2': 0.903172742446984, 'rmse': 40603.866388099865}}\n",
      "{'test': {'r2': 0.8763654580300094, 'rmse': 47200.80110918146},\n",
      " 'train': {'r2': 0.9032333443690354, 'rmse': 40591.157892848}}\n"
     ]
    },
    {
     "name": "stderr",
     "output_type": "stream",
     "text": [
      "C:\\Users\\danie\\anaconda3\\envs\\yingning\\lib\\site-packages\\sklearn\\linear_model\\_coordinate_descent.py:628: ConvergenceWarning: Objective did not converge. You might want to increase the number of iterations, check the scale of the features or consider increasing regularisation. Duality gap: 3.653e+11, tolerance: 3.704e+09\n",
      "  model = cd_fast.enet_coordinate_descent(\n",
      "C:\\Users\\danie\\anaconda3\\envs\\yingning\\lib\\site-packages\\sklearn\\linear_model\\_coordinate_descent.py:628: ConvergenceWarning: Objective did not converge. You might want to increase the number of iterations, check the scale of the features or consider increasing regularisation. Duality gap: 1.387e+13, tolerance: 3.704e+09\n",
      "  model = cd_fast.enet_coordinate_descent(\n"
     ]
    },
    {
     "name": "stdout",
     "output_type": "stream",
     "text": [
      "{'test': {'r2': 0.8360880048456858, 'rmse': 54164.70256159031},\n",
      " 'train': {'r2': 0.9022403199510298, 'rmse': 40381.68618982618}}\n",
      "{'test': {'r2': -2.495595131609353, 'rmse': 250133.32560277922},\n",
      " 'train': {'r2': -3.053062414746716, 'rmse': 260013.68697316357}}\n"
     ]
    },
    {
     "name": "stderr",
     "output_type": "stream",
     "text": [
      "C:\\Users\\danie\\anaconda3\\envs\\yingning\\lib\\site-packages\\sklearn\\linear_model\\_coordinate_descent.py:628: ConvergenceWarning: Objective did not converge. You might want to increase the number of iterations, check the scale of the features or consider increasing regularisation. Duality gap: 3.599e+11, tolerance: 3.704e+09\n",
      "  model = cd_fast.enet_coordinate_descent(\n",
      "C:\\Users\\danie\\anaconda3\\envs\\yingning\\lib\\site-packages\\sklearn\\linear_model\\_coordinate_descent.py:628: ConvergenceWarning: Objective did not converge. You might want to increase the number of iterations, check the scale of the features or consider increasing regularisation. Duality gap: 3.297e+11, tolerance: 3.704e+09\n",
      "  model = cd_fast.enet_coordinate_descent(\n"
     ]
    },
    {
     "name": "stdout",
     "output_type": "stream",
     "text": [
      "{'test': {'r2': 0.8432381677298633, 'rmse': 52970.14476010422},\n",
      " 'train': {'r2': 0.9036755558225362, 'rmse': 40084.163008689095}}\n",
      "{'test': {'r2': 0.8443751184010904, 'rmse': 52777.706216837105},\n",
      " 'train': {'r2': 0.9037281638782251, 'rmse': 40073.21543508812}}\n"
     ]
    },
    {
     "name": "stderr",
     "output_type": "stream",
     "text": [
      "C:\\Users\\danie\\anaconda3\\envs\\yingning\\lib\\site-packages\\sklearn\\linear_model\\_coordinate_descent.py:628: ConvergenceWarning: Objective did not converge. You might want to increase the number of iterations, check the scale of the features or consider increasing regularisation. Duality gap: 3.747e+11, tolerance: 3.774e+09\n",
      "  model = cd_fast.enet_coordinate_descent(\n",
      "C:\\Users\\danie\\anaconda3\\envs\\yingning\\lib\\site-packages\\sklearn\\linear_model\\_coordinate_descent.py:628: ConvergenceWarning: Objective did not converge. You might want to increase the number of iterations, check the scale of the features or consider increasing regularisation. Duality gap: 1.417e+13, tolerance: 3.774e+09\n",
      "  model = cd_fast.enet_coordinate_descent(\n"
     ]
    },
    {
     "name": "stdout",
     "output_type": "stream",
     "text": [
      "{'test': {'r2': 0.8726513925345084, 'rmse': 47904.527153604584},\n",
      " 'train': {'r2': 0.9017470454021907, 'rmse': 40901.702336799244}}\n",
      "{'test': {'r2': -2.833921639401918, 'rmse': 262845.8192682989},\n",
      " 'train': {'r2': -3.044289418787182, 'rmse': 262415.62331151206}}\n"
     ]
    },
    {
     "name": "stderr",
     "output_type": "stream",
     "text": [
      "C:\\Users\\danie\\anaconda3\\envs\\yingning\\lib\\site-packages\\sklearn\\linear_model\\_coordinate_descent.py:628: ConvergenceWarning: Objective did not converge. You might want to increase the number of iterations, check the scale of the features or consider increasing regularisation. Duality gap: 3.693e+11, tolerance: 3.774e+09\n",
      "  model = cd_fast.enet_coordinate_descent(\n",
      "C:\\Users\\danie\\anaconda3\\envs\\yingning\\lib\\site-packages\\sklearn\\linear_model\\_coordinate_descent.py:628: ConvergenceWarning: Objective did not converge. You might want to increase the number of iterations, check the scale of the features or consider increasing regularisation. Duality gap: 3.393e+11, tolerance: 3.774e+09\n",
      "  model = cd_fast.enet_coordinate_descent(\n"
     ]
    },
    {
     "name": "stdout",
     "output_type": "stream",
     "text": [
      "{'test': {'r2': 0.8763297471953894, 'rmse': 47207.617401281284},\n",
      " 'train': {'r2': 0.9031730985679792, 'rmse': 40603.79171954594}}\n",
      "{'test': {'r2': 0.8764495183877633, 'rmse': 47184.75223313071},\n",
      " 'train': {'r2': 0.9032279619429392, 'rmse': 40592.28677277094}}\n"
     ]
    },
    {
     "name": "stderr",
     "output_type": "stream",
     "text": [
      "C:\\Users\\danie\\anaconda3\\envs\\yingning\\lib\\site-packages\\sklearn\\linear_model\\_coordinate_descent.py:628: ConvergenceWarning: Objective did not converge. You might want to increase the number of iterations, check the scale of the features or consider increasing regularisation. Duality gap: 3.653e+11, tolerance: 3.704e+09\n",
      "  model = cd_fast.enet_coordinate_descent(\n",
      "C:\\Users\\danie\\anaconda3\\envs\\yingning\\lib\\site-packages\\sklearn\\linear_model\\_coordinate_descent.py:628: ConvergenceWarning: Objective did not converge. You might want to increase the number of iterations, check the scale of the features or consider increasing regularisation. Duality gap: 1.457e+12, tolerance: 3.704e+09\n",
      "  model = cd_fast.enet_coordinate_descent(\n"
     ]
    },
    {
     "name": "stdout",
     "output_type": "stream",
     "text": [
      "{'test': {'r2': 0.8360942553369644, 'rmse': 54163.669814632805},\n",
      " 'train': {'r2': 0.9022401747306095, 'rmse': 40381.71618298525}}\n",
      "{'test': {'r2': -2.49672882834632, 'rmse': 250173.88412510496},\n",
      " 'train': {'r2': -3.0531253877389553, 'rmse': 260015.70689965572}}\n"
     ]
    },
    {
     "name": "stderr",
     "output_type": "stream",
     "text": [
      "C:\\Users\\danie\\anaconda3\\envs\\yingning\\lib\\site-packages\\sklearn\\linear_model\\_coordinate_descent.py:628: ConvergenceWarning: Objective did not converge. You might want to increase the number of iterations, check the scale of the features or consider increasing regularisation. Duality gap: 3.603e+11, tolerance: 3.704e+09\n",
      "  model = cd_fast.enet_coordinate_descent(\n"
     ]
    },
    {
     "name": "stdout",
     "output_type": "stream",
     "text": [
      "{'test': {'r2': 0.843107313465653, 'rmse': 52992.248110646135},\n",
      " 'train': {'r2': 0.9036779177385449, 'rmse': 40083.6715653826}}\n"
     ]
    },
    {
     "name": "stderr",
     "output_type": "stream",
     "text": [
      "C:\\Users\\danie\\anaconda3\\envs\\yingning\\lib\\site-packages\\sklearn\\linear_model\\_coordinate_descent.py:628: ConvergenceWarning: Objective did not converge. You might want to increase the number of iterations, check the scale of the features or consider increasing regularisation. Duality gap: 3.572e+10, tolerance: 3.704e+09\n",
      "  model = cd_fast.enet_coordinate_descent(\n",
      "C:\\Users\\danie\\anaconda3\\envs\\yingning\\lib\\site-packages\\sklearn\\linear_model\\_coordinate_descent.py:628: ConvergenceWarning: Objective did not converge. You might want to increase the number of iterations, check the scale of the features or consider increasing regularisation. Duality gap: 3.748e+11, tolerance: 3.774e+09\n",
      "  model = cd_fast.enet_coordinate_descent(\n"
     ]
    },
    {
     "name": "stdout",
     "output_type": "stream",
     "text": [
      "{'test': {'r2': 0.845246172197076, 'rmse': 52629.79693094408},\n",
      " 'train': {'r2': 0.9036651849509122, 'rmse': 40086.32080219348}}\n",
      "{'test': {'r2': 0.8726580115057968, 'rmse': 47903.282213372055},\n",
      " 'train': {'r2': 0.901746900313903, 'rmse': 40901.732536174866}}\n"
     ]
    },
    {
     "name": "stderr",
     "output_type": "stream",
     "text": [
      "C:\\Users\\danie\\anaconda3\\envs\\yingning\\lib\\site-packages\\sklearn\\linear_model\\_coordinate_descent.py:628: ConvergenceWarning: Objective did not converge. You might want to increase the number of iterations, check the scale of the features or consider increasing regularisation. Duality gap: 1.859e+12, tolerance: 3.774e+09\n",
      "  model = cd_fast.enet_coordinate_descent(\n",
      "C:\\Users\\danie\\anaconda3\\envs\\yingning\\lib\\site-packages\\sklearn\\linear_model\\_coordinate_descent.py:628: ConvergenceWarning: Objective did not converge. You might want to increase the number of iterations, check the scale of the features or consider increasing regularisation. Duality gap: 3.697e+11, tolerance: 3.774e+09\n",
      "  model = cd_fast.enet_coordinate_descent(\n"
     ]
    },
    {
     "name": "stdout",
     "output_type": "stream",
     "text": [
      "{'test': {'r2': -2.8346297583044224, 'rmse': 262870.0917387708},\n",
      " 'train': {'r2': -3.044352875675, 'rmse': 262417.6820184599}}\n",
      "{'test': {'r2': 0.8762835326847024, 'rmse': 47216.43711786236},\n",
      " 'train': {'r2': 0.9031754384088545, 'rmse': 40603.30111732631}}\n"
     ]
    },
    {
     "name": "stderr",
     "output_type": "stream",
     "text": [
      "C:\\Users\\danie\\anaconda3\\envs\\yingning\\lib\\site-packages\\sklearn\\linear_model\\_coordinate_descent.py:628: ConvergenceWarning: Objective did not converge. You might want to increase the number of iterations, check the scale of the features or consider increasing regularisation. Duality gap: 4.578e+10, tolerance: 3.774e+09\n",
      "  model = cd_fast.enet_coordinate_descent(\n",
      "C:\\Users\\danie\\anaconda3\\envs\\yingning\\lib\\site-packages\\sklearn\\linear_model\\_coordinate_descent.py:628: ConvergenceWarning: Objective did not converge. You might want to increase the number of iterations, check the scale of the features or consider increasing regularisation. Duality gap: 3.656e+11, tolerance: 3.704e+09\n",
      "  model = cd_fast.enet_coordinate_descent(\n"
     ]
    },
    {
     "name": "stdout",
     "output_type": "stream",
     "text": [
      "{'test': {'r2': 0.8772503500237463, 'rmse': 47031.58215535739},\n",
      " 'train': {'r2': 0.9031644992408132, 'rmse': 40605.59471815428}}\n",
      "{'test': {'r2': 0.8361561788364241, 'rmse': 54153.4373458732},\n",
      " 'train': {'r2': 0.902237920012146, 'rmse': 40382.18185932944}}\n",
      "{'test': {'r2': -2.488254537929773, 'rmse': 249870.55317069087},\n",
      " 'train': {'r2': -3.054111192266138, 'rmse': 260047.32559541534}}\n",
      "{'test': {'r2': 0.8416659781986966, 'rmse': 53235.10511916516},\n",
      " 'train': {'r2': 0.9035786031788192, 'rmse': 40104.33072518732}}\n"
     ]
    },
    {
     "name": "stderr",
     "output_type": "stream",
     "text": [
      "C:\\Users\\danie\\anaconda3\\envs\\yingning\\lib\\site-packages\\sklearn\\linear_model\\_coordinate_descent.py:628: ConvergenceWarning: Objective did not converge. You might want to increase the number of iterations, check the scale of the features or consider increasing regularisation. Duality gap: 3.630e+11, tolerance: 3.704e+09\n",
      "  model = cd_fast.enet_coordinate_descent(\n"
     ]
    },
    {
     "name": "stdout",
     "output_type": "stream",
     "text": [
      "{'test': {'r2': 0.8476574305353, 'rmse': 52218.168157375825},\n",
      " 'train': {'r2': 0.9026883389647647, 'rmse': 40289.04810604557}}\n",
      "{'test': {'r2': 0.8727235993896792, 'rmse': 47890.94425787575},\n",
      " 'train': {'r2': 0.9017446625884431, 'rmse': 40902.198304315585}}\n"
     ]
    },
    {
     "name": "stderr",
     "output_type": "stream",
     "text": [
      "C:\\Users\\danie\\anaconda3\\envs\\yingning\\lib\\site-packages\\sklearn\\linear_model\\_coordinate_descent.py:628: ConvergenceWarning: Objective did not converge. You might want to increase the number of iterations, check the scale of the features or consider increasing regularisation. Duality gap: 3.751e+11, tolerance: 3.774e+09\n",
      "  model = cd_fast.enet_coordinate_descent(\n"
     ]
    },
    {
     "name": "stdout",
     "output_type": "stream",
     "text": [
      "{'test': {'r2': -2.8230542875178473, 'rmse': 262473.03321342403},\n",
      " 'train': {'r2': -3.045326580479407, 'rmse': 262449.26951688953}}\n",
      "{'test': {'r2': 0.875702735087593, 'rmse': 47327.13815875321},\n",
      " 'train': {'r2': 0.9030785505734016, 'rmse': 40623.61095529903}}\n"
     ]
    },
    {
     "name": "stderr",
     "output_type": "stream",
     "text": [
      "C:\\Users\\danie\\anaconda3\\envs\\yingning\\lib\\site-packages\\sklearn\\linear_model\\_coordinate_descent.py:628: ConvergenceWarning: Objective did not converge. You might want to increase the number of iterations, check the scale of the features or consider increasing regularisation. Duality gap: 3.724e+11, tolerance: 3.774e+09\n",
      "  model = cd_fast.enet_coordinate_descent(\n"
     ]
    },
    {
     "name": "stdout",
     "output_type": "stream",
     "text": [
      "{'test': {'r2': 0.8810622118358061, 'rmse': 46295.56476809568},\n",
      " 'train': {'r2': 0.9021923808997423, 'rmse': 40808.902751392336}}\n",
      "{'test': {'r2': 0.8367296995432755, 'rmse': 54058.574615739846},\n",
      " 'train': {'r2': 0.9021350742996147, 'rmse': 40403.41730443866}}\n"
     ]
    },
    {
     "name": "stderr",
     "output_type": "stream",
     "text": [
      "C:\\Users\\danie\\anaconda3\\envs\\yingning\\lib\\site-packages\\sklearn\\linear_model\\_coordinate_descent.py:628: ConvergenceWarning: Objective did not converge. You might want to increase the number of iterations, check the scale of the features or consider increasing regularisation. Duality gap: 3.684e+11, tolerance: 3.704e+09\n",
      "  model = cd_fast.enet_coordinate_descent(\n"
     ]
    },
    {
     "name": "stdout",
     "output_type": "stream",
     "text": [
      "{'test': {'r2': -2.5019161578332603, 'rmse': 250359.37941161127},\n",
      " 'train': {'r2': -3.0597506541674164, 'rmse': 260228.13185206143}}\n",
      "{'test': {'r2': 0.8370087926270838, 'rmse': 54012.351183392995},\n",
      " 'train': {'r2': 0.9021347760079634, 'rmse': 40403.47887906715}}\n"
     ]
    },
    {
     "name": "stderr",
     "output_type": "stream",
     "text": [
      "C:\\Users\\danie\\anaconda3\\envs\\yingning\\lib\\site-packages\\sklearn\\linear_model\\_coordinate_descent.py:628: ConvergenceWarning: Objective did not converge. You might want to increase the number of iterations, check the scale of the features or consider increasing regularisation. Duality gap: 3.683e+11, tolerance: 3.704e+09\n",
      "  model = cd_fast.enet_coordinate_descent(\n"
     ]
    },
    {
     "name": "stdout",
     "output_type": "stream",
     "text": [
      "{'test': {'r2': 0.859648962824398, 'rmse': 50120.89384430965},\n",
      " 'train': {'r2': 0.8969721343046644, 'rmse': 41455.476875213106}}\n",
      "{'test': {'r2': 0.8733211671306357, 'rmse': 47778.38704742331},\n",
      " 'train': {'r2': 0.9016435520043927, 'rmse': 40923.23828982332}}\n"
     ]
    },
    {
     "name": "stderr",
     "output_type": "stream",
     "text": [
      "C:\\Users\\danie\\anaconda3\\envs\\yingning\\lib\\site-packages\\sklearn\\linear_model\\_coordinate_descent.py:628: ConvergenceWarning: Objective did not converge. You might want to increase the number of iterations, check the scale of the features or consider increasing regularisation. Duality gap: 3.780e+11, tolerance: 3.774e+09\n",
      "  model = cd_fast.enet_coordinate_descent(\n"
     ]
    },
    {
     "name": "stdout",
     "output_type": "stream",
     "text": [
      "{'test': {'r2': -2.811036206091693, 'rmse': 262060.15583872073},\n",
      " 'train': {'r2': -3.051072107074047, 'rmse': 262635.580089287}}\n",
      "{'test': {'r2': 0.8733866839173047, 'rmse': 47766.03024257245},\n",
      " 'train': {'r2': 0.9016432111129812, 'rmse': 40923.30920722965}}\n",
      "{'test': {'r2': 0.8897302619440784, 'rmse': 44576.67068520467},\n",
      " 'train': {'r2': 0.896378668594509, 'rmse': 42004.24262041176}}\n"
     ]
    },
    {
     "name": "stderr",
     "output_type": "stream",
     "text": [
      "C:\\Users\\danie\\anaconda3\\envs\\yingning\\lib\\site-packages\\sklearn\\linear_model\\_coordinate_descent.py:628: ConvergenceWarning: Objective did not converge. You might want to increase the number of iterations, check the scale of the features or consider increasing regularisation. Duality gap: 3.779e+11, tolerance: 3.774e+09\n",
      "  model = cd_fast.enet_coordinate_descent(\n"
     ]
    }
   ],
   "source": [
    "for alpha in alphas:\n",
    "    reses = {}\n",
    "    for dataset_config in dataset_configs:\n",
    "        res = model_func(fetch_selected_dataset(*dataset_config), alpha)\n",
    "        reses[str(dataset_config)] = res\n",
    "        pprint(res['score'])\n",
    "    save_reses(reses, folder_name.format(alpha=alpha))"
   ]
  },
  {
   "cell_type": "code",
   "execution_count": null,
   "id": "b2d85b2d",
   "metadata": {},
   "outputs": [],
   "source": []
  }
 ],
 "metadata": {
  "kernelspec": {
   "display_name": "Python 3 (ipykernel)",
   "language": "python",
   "name": "python3"
  },
  "language_info": {
   "codemirror_mode": {
    "name": "ipython",
    "version": 3
   },
   "file_extension": ".py",
   "mimetype": "text/x-python",
   "name": "python",
   "nbconvert_exporter": "python",
   "pygments_lexer": "ipython3",
   "version": "3.10.12"
  }
 },
 "nbformat": 4,
 "nbformat_minor": 5
}
