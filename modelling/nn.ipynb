{
 "cells": [
  {
   "cell_type": "code",
   "execution_count": 1,
   "id": "bff3fde4",
   "metadata": {},
   "outputs": [],
   "source": [
    "from pprint import pprint\n",
    "import sys\n",
    "sys.path.append('C:/Users/danie/Desktop/yingning')\n",
    "\n",
    "from data_utils import fetch_selected_dataset, save_reses\n",
    "from models import nn"
   ]
  },
  {
   "cell_type": "code",
   "execution_count": 2,
   "id": "26a7f85a",
   "metadata": {},
   "outputs": [],
   "source": [
    "dataset_configs = [\n",
    "    (False, 0, False),\n",
    "    (False, 0, True),\n",
    "    (True, 0, False),\n",
    "    (True, 0, True),\n",
    "    (False, 1, False),\n",
    "    (False, 1, True),\n",
    "    (True, 1, False),\n",
    "    (True, 1, True)\n",
    "]\n",
    "model_func = nn\n",
    "hidden_layer_sizeses = [(64,), (128,), (64, 64), (128, 128)]\n",
    "alphas = [0.001, 0.01, 0.1, 1.]\n",
    "activations = ['relu', 'tanh']\n",
    "folder_name = 'nn_hidden_layer_sizes{hidden_layer_sizes}_alpha{alpha}_activation{activation}'"
   ]
  },
  {
   "cell_type": "code",
   "execution_count": 3,
   "id": "442fab89",
   "metadata": {
    "scrolled": false
   },
   "outputs": [
    {
     "name": "stdout",
     "output_type": "stream",
     "text": [
      "{'test': {'r2': 0.8884322581217765, 'rmse': 44686.90903827596},\n",
      " 'train': {'r2': 0.9047168810356582, 'rmse': 39866.90728374542}}\n"
     ]
    },
    {
     "name": "stderr",
     "output_type": "stream",
     "text": [
      "C:\\Users\\danie\\anaconda3\\envs\\yingning\\lib\\site-packages\\sklearn\\neural_network\\_multilayer_perceptron.py:691: ConvergenceWarning: Stochastic Optimizer: Maximum iterations (5000) reached and the optimization hasn't converged yet.\n",
      "  warnings.warn(\n"
     ]
    },
    {
     "name": "stdout",
     "output_type": "stream",
     "text": [
      "{'test': {'r2': 0.8471820643031857, 'rmse': 52299.574884326954},\n",
      " 'train': {'r2': 0.9336612798460624, 'rmse': 33265.04444606177}}\n",
      "{'test': {'r2': 0.8855777778360211, 'rmse': 45254.959777646756},\n",
      " 'train': {'r2': 0.8948044727229029, 'rmse': 41889.30946207383}}\n"
     ]
    },
    {
     "name": "stderr",
     "output_type": "stream",
     "text": [
      "C:\\Users\\danie\\anaconda3\\envs\\yingning\\lib\\site-packages\\sklearn\\neural_network\\_multilayer_perceptron.py:691: ConvergenceWarning: Stochastic Optimizer: Maximum iterations (5000) reached and the optimization hasn't converged yet.\n",
      "  warnings.warn(\n"
     ]
    },
    {
     "name": "stdout",
     "output_type": "stream",
     "text": [
      "{'test': {'r2': 0.8711109510561597, 'rmse': 48030.709706589005},\n",
      " 'train': {'r2': 0.9381976263196056, 'rmse': 32107.548079435885}}\n",
      "{'test': {'r2': 0.8925452161262779, 'rmse': 44004.01814382412},\n",
      " 'train': {'r2': 0.9026393638424075, 'rmse': 40715.54718425013}}\n"
     ]
    },
    {
     "name": "stderr",
     "output_type": "stream",
     "text": [
      "C:\\Users\\danie\\anaconda3\\envs\\yingning\\lib\\site-packages\\sklearn\\neural_network\\_multilayer_perceptron.py:691: ConvergenceWarning: Stochastic Optimizer: Maximum iterations (5000) reached and the optimization hasn't converged yet.\n",
      "  warnings.warn(\n"
     ]
    },
    {
     "name": "stdout",
     "output_type": "stream",
     "text": [
      "{'test': {'r2': 0.898986156476679, 'rmse': 42664.818812824386},\n",
      " 'train': {'r2': 0.9333521838966936, 'rmse': 33686.937891464855}}\n",
      "{'test': {'r2': 0.9017318720742147, 'rmse': 42080.97549858385},\n",
      " 'train': {'r2': 0.9067331146305964, 'rmse': 39850.365698862}}\n",
      "{'test': {'r2': 0.9183004059904256, 'rmse': 38369.788629751776},\n",
      " 'train': {'r2': 0.9254788721370933, 'rmse': 35621.17851807834}}\n"
     ]
    },
    {
     "name": "stderr",
     "output_type": "stream",
     "text": [
      "C:\\Users\\danie\\anaconda3\\envs\\yingning\\lib\\site-packages\\sklearn\\neural_network\\_multilayer_perceptron.py:691: ConvergenceWarning: Stochastic Optimizer: Maximum iterations (5000) reached and the optimization hasn't converged yet.\n",
      "  warnings.warn(\n"
     ]
    },
    {
     "name": "stdout",
     "output_type": "stream",
     "text": [
      "{'test': {'r2': -3.6315789816210335, 'rmse': 287922.4515558546},\n",
      " 'train': {'r2': -3.663118638827018, 'rmse': 278896.3279336093}}\n"
     ]
    },
    {
     "name": "stderr",
     "output_type": "stream",
     "text": [
      "C:\\Users\\danie\\anaconda3\\envs\\yingning\\lib\\site-packages\\sklearn\\neural_network\\_multilayer_perceptron.py:691: ConvergenceWarning: Stochastic Optimizer: Maximum iterations (5000) reached and the optimization hasn't converged yet.\n",
      "  warnings.warn(\n"
     ]
    },
    {
     "name": "stdout",
     "output_type": "stream",
     "text": [
      "{'test': {'r2': -3.6287112749755837, 'rmse': 287833.3021558407},\n",
      " 'train': {'r2': -3.6601350447977214, 'rmse': 278807.0908126773}}\n"
     ]
    },
    {
     "name": "stderr",
     "output_type": "stream",
     "text": [
      "C:\\Users\\danie\\anaconda3\\envs\\yingning\\lib\\site-packages\\sklearn\\neural_network\\_multilayer_perceptron.py:691: ConvergenceWarning: Stochastic Optimizer: Maximum iterations (5000) reached and the optimization hasn't converged yet.\n",
      "  warnings.warn(\n"
     ]
    },
    {
     "name": "stdout",
     "output_type": "stream",
     "text": [
      "{'test': {'r2': -3.631477689268678, 'rmse': 287919.3031153349},\n",
      " 'train': {'r2': -3.6630130964632173, 'rmse': 278893.1717256568}}\n"
     ]
    },
    {
     "name": "stderr",
     "output_type": "stream",
     "text": [
      "C:\\Users\\danie\\anaconda3\\envs\\yingning\\lib\\site-packages\\sklearn\\neural_network\\_multilayer_perceptron.py:691: ConvergenceWarning: Stochastic Optimizer: Maximum iterations (5000) reached and the optimization hasn't converged yet.\n",
      "  warnings.warn(\n"
     ]
    },
    {
     "name": "stdout",
     "output_type": "stream",
     "text": [
      "{'test': {'r2': -3.629810500670718, 'rmse': 287867.4774328016},\n",
      " 'train': {'r2': -3.661278625078607, 'rmse': 278841.29783995426}}\n"
     ]
    },
    {
     "name": "stderr",
     "output_type": "stream",
     "text": [
      "C:\\Users\\danie\\anaconda3\\envs\\yingning\\lib\\site-packages\\sklearn\\neural_network\\_multilayer_perceptron.py:691: ConvergenceWarning: Stochastic Optimizer: Maximum iterations (5000) reached and the optimization hasn't converged yet.\n",
      "  warnings.warn(\n"
     ]
    },
    {
     "name": "stdout",
     "output_type": "stream",
     "text": [
      "{'test': {'r2': -3.630400302897139, 'rmse': 288860.87769498245},\n",
      " 'train': {'r2': -3.6572402657033427, 'rmse': 281600.15926461923}}\n"
     ]
    },
    {
     "name": "stderr",
     "output_type": "stream",
     "text": [
      "C:\\Users\\danie\\anaconda3\\envs\\yingning\\lib\\site-packages\\sklearn\\neural_network\\_multilayer_perceptron.py:691: ConvergenceWarning: Stochastic Optimizer: Maximum iterations (5000) reached and the optimization hasn't converged yet.\n",
      "  warnings.warn(\n"
     ]
    },
    {
     "name": "stdout",
     "output_type": "stream",
     "text": [
      "{'test': {'r2': -3.6274895857857983, 'rmse': 288770.0729676688},\n",
      " 'train': {'r2': -3.6542345413224036, 'rmse': 281509.2739950001}}\n"
     ]
    },
    {
     "name": "stderr",
     "output_type": "stream",
     "text": [
      "C:\\Users\\danie\\anaconda3\\envs\\yingning\\lib\\site-packages\\sklearn\\neural_network\\_multilayer_perceptron.py:691: ConvergenceWarning: Stochastic Optimizer: Maximum iterations (5000) reached and the optimization hasn't converged yet.\n",
      "  warnings.warn(\n"
     ]
    },
    {
     "name": "stdout",
     "output_type": "stream",
     "text": [
      "{'test': {'r2': -3.630455929157889, 'rmse': 288862.6127719946},\n",
      " 'train': {'r2': -3.6572978479840845, 'rmse': 281601.90011632344}}\n"
     ]
    },
    {
     "name": "stderr",
     "output_type": "stream",
     "text": [
      "C:\\Users\\danie\\anaconda3\\envs\\yingning\\lib\\site-packages\\sklearn\\neural_network\\_multilayer_perceptron.py:691: ConvergenceWarning: Stochastic Optimizer: Maximum iterations (5000) reached and the optimization hasn't converged yet.\n",
      "  warnings.warn(\n"
     ]
    },
    {
     "name": "stdout",
     "output_type": "stream",
     "text": [
      "{'test': {'r2': -3.628452380211442, 'rmse': 288800.1121229579},\n",
      " 'train': {'r2': -3.6552286647237056, 'rmse': 281539.3369422083}}\n",
      "{'test': {'r2': 0.8717387166705513, 'rmse': 47913.59800293553},\n",
      " 'train': {'r2': 0.8814764483679339, 'rmse': 44463.83237758982}}\n"
     ]
    },
    {
     "name": "stderr",
     "output_type": "stream",
     "text": [
      "C:\\Users\\danie\\anaconda3\\envs\\yingning\\lib\\site-packages\\sklearn\\neural_network\\_multilayer_perceptron.py:691: ConvergenceWarning: Stochastic Optimizer: Maximum iterations (5000) reached and the optimization hasn't converged yet.\n",
      "  warnings.warn(\n"
     ]
    },
    {
     "name": "stdout",
     "output_type": "stream",
     "text": [
      "{'test': {'r2': 0.8396071437639177, 'rmse': 53580.09816480292},\n",
      " 'train': {'r2': 0.9366636699462522, 'rmse': 32503.566060812274}}\n",
      "{'test': {'r2': 0.8701766991546589, 'rmse': 48204.47062949435},\n",
      " 'train': {'r2': 0.8766770075628816, 'rmse': 45355.148259715075}}\n",
      "{'test': {'r2': 0.886329319557867, 'rmse': 45106.094368510065},\n",
      " 'train': {'r2': 0.9517703570100567, 'rmse': 28363.61536474721}}\n",
      "{'test': {'r2': 0.8989284970332222, 'rmse': 42676.99377158024},\n",
      " 'train': {'r2': 0.8950275944568603, 'rmse': 42277.193439831986}}\n"
     ]
    },
    {
     "name": "stderr",
     "output_type": "stream",
     "text": [
      "C:\\Users\\danie\\anaconda3\\envs\\yingning\\lib\\site-packages\\sklearn\\neural_network\\_multilayer_perceptron.py:691: ConvergenceWarning: Stochastic Optimizer: Maximum iterations (5000) reached and the optimization hasn't converged yet.\n",
      "  warnings.warn(\n"
     ]
    },
    {
     "name": "stdout",
     "output_type": "stream",
     "text": [
      "{'test': {'r2': 0.9129981052237164, 'rmse': 39595.31598069961},\n",
      " 'train': {'r2': 0.9361111685497, 'rmse': 32982.30828234254}}\n",
      "{'test': {'r2': 0.8946061069838147, 'rmse': 43579.99548544087},\n",
      " 'train': {'r2': 0.8998207703989983, 'rmse': 41300.70052615629}}\n",
      "{'test': {'r2': 0.9165552015478091, 'rmse': 38777.43625496253},\n",
      " 'train': {'r2': 0.9272988830171213, 'rmse': 35183.506138882265}}\n"
     ]
    },
    {
     "name": "stderr",
     "output_type": "stream",
     "text": [
      "C:\\Users\\danie\\anaconda3\\envs\\yingning\\lib\\site-packages\\sklearn\\neural_network\\_multilayer_perceptron.py:691: ConvergenceWarning: Stochastic Optimizer: Maximum iterations (5000) reached and the optimization hasn't converged yet.\n",
      "  warnings.warn(\n"
     ]
    },
    {
     "name": "stdout",
     "output_type": "stream",
     "text": [
      "{'test': {'r2': -3.6315146681233488, 'rmse': 287920.45252223365},\n",
      " 'train': {'r2': -3.6630515678167805, 'rmse': 278894.3222023404}}\n"
     ]
    },
    {
     "name": "stderr",
     "output_type": "stream",
     "text": [
      "C:\\Users\\danie\\anaconda3\\envs\\yingning\\lib\\site-packages\\sklearn\\neural_network\\_multilayer_perceptron.py:691: ConvergenceWarning: Stochastic Optimizer: Maximum iterations (5000) reached and the optimization hasn't converged yet.\n",
      "  warnings.warn(\n"
     ]
    },
    {
     "name": "stdout",
     "output_type": "stream",
     "text": [
      "{'test': {'r2': -3.628633370344395, 'rmse': 287830.8799220624},\n",
      " 'train': {'r2': -3.6600539968426418, 'rmse': 278804.6663289869}}\n"
     ]
    },
    {
     "name": "stderr",
     "output_type": "stream",
     "text": [
      "C:\\Users\\danie\\anaconda3\\envs\\yingning\\lib\\site-packages\\sklearn\\neural_network\\_multilayer_perceptron.py:691: ConvergenceWarning: Stochastic Optimizer: Maximum iterations (5000) reached and the optimization hasn't converged yet.\n",
      "  warnings.warn(\n"
     ]
    },
    {
     "name": "stdout",
     "output_type": "stream",
     "text": [
      "{'test': {'r2': -3.6316834514780583, 'rmse': 287925.6987257564},\n",
      " 'train': {'r2': -3.6632273251508423, 'rmse': 278899.5781232715}}\n"
     ]
    },
    {
     "name": "stderr",
     "output_type": "stream",
     "text": [
      "C:\\Users\\danie\\anaconda3\\envs\\yingning\\lib\\site-packages\\sklearn\\neural_network\\_multilayer_perceptron.py:691: ConvergenceWarning: Stochastic Optimizer: Maximum iterations (5000) reached and the optimization hasn't converged yet.\n",
      "  warnings.warn(\n"
     ]
    },
    {
     "name": "stdout",
     "output_type": "stream",
     "text": [
      "{'test': {'r2': -3.6296896545080255, 'rmse': 287863.72048562043},\n",
      " 'train': {'r2': -3.6611529024118408, 'rmse': 278837.5374009442}}\n"
     ]
    },
    {
     "name": "stderr",
     "output_type": "stream",
     "text": [
      "C:\\Users\\danie\\anaconda3\\envs\\yingning\\lib\\site-packages\\sklearn\\neural_network\\_multilayer_perceptron.py:691: ConvergenceWarning: Stochastic Optimizer: Maximum iterations (5000) reached and the optimization hasn't converged yet.\n",
      "  warnings.warn(\n"
     ]
    },
    {
     "name": "stdout",
     "output_type": "stream",
     "text": [
      "{'test': {'r2': -3.6305140697427074, 'rmse': 288864.4262638815},\n",
      " 'train': {'r2': -3.6573272427911396, 'rmse': 281602.78878833127}}\n"
     ]
    },
    {
     "name": "stderr",
     "output_type": "stream",
     "text": [
      "C:\\Users\\danie\\anaconda3\\envs\\yingning\\lib\\site-packages\\sklearn\\neural_network\\_multilayer_perceptron.py:691: ConvergenceWarning: Stochastic Optimizer: Maximum iterations (5000) reached and the optimization hasn't converged yet.\n",
      "  warnings.warn(\n"
     ]
    },
    {
     "name": "stdout",
     "output_type": "stream",
     "text": [
      "{'test': {'r2': -3.6273825492677307, 'rmse': 288766.7332387189},\n",
      " 'train': {'r2': -3.6541240220896647, 'rmse': 281505.9316222218}}\n"
     ]
    },
    {
     "name": "stderr",
     "output_type": "stream",
     "text": [
      "C:\\Users\\danie\\anaconda3\\envs\\yingning\\lib\\site-packages\\sklearn\\neural_network\\_multilayer_perceptron.py:691: ConvergenceWarning: Stochastic Optimizer: Maximum iterations (5000) reached and the optimization hasn't converged yet.\n",
      "  warnings.warn(\n"
     ]
    },
    {
     "name": "stdout",
     "output_type": "stream",
     "text": [
      "{'test': {'r2': -3.630228756765515, 'rmse': 288855.52681580675},\n",
      " 'train': {'r2': -3.6570629935359493, 'rmse': 281594.79983040853}}\n"
     ]
    },
    {
     "name": "stderr",
     "output_type": "stream",
     "text": [
      "C:\\Users\\danie\\anaconda3\\envs\\yingning\\lib\\site-packages\\sklearn\\neural_network\\_multilayer_perceptron.py:691: ConvergenceWarning: Stochastic Optimizer: Maximum iterations (5000) reached and the optimization hasn't converged yet.\n",
      "  warnings.warn(\n"
     ]
    },
    {
     "name": "stdout",
     "output_type": "stream",
     "text": [
      "{'test': {'r2': -3.628418778941021, 'rmse': 288799.06381701457},\n",
      " 'train': {'r2': -3.6551939700305596, 'rmse': 281538.28780587076}}\n",
      "{'test': {'r2': 0.9020736380702921, 'rmse': 41865.9359283176},\n",
      " 'train': {'r2': 0.9135150253882115, 'rmse': 37981.74335408565}}\n"
     ]
    },
    {
     "name": "stderr",
     "output_type": "stream",
     "text": [
      "C:\\Users\\danie\\anaconda3\\envs\\yingning\\lib\\site-packages\\sklearn\\neural_network\\_multilayer_perceptron.py:691: ConvergenceWarning: Stochastic Optimizer: Maximum iterations (5000) reached and the optimization hasn't converged yet.\n",
      "  warnings.warn(\n"
     ]
    },
    {
     "name": "stdout",
     "output_type": "stream",
     "text": [
      "{'test': {'r2': 0.8619944696090789, 'rmse': 49700.326248001},\n",
      " 'train': {'r2': 0.935323078271137, 'rmse': 32845.75390136725}}\n",
      "{'test': {'r2': 0.8837688862323787, 'rmse': 45611.27305697914},\n",
      " 'train': {'r2': 0.895753866639509, 'rmse': 41699.85467225149}}\n",
      "{'test': {'r2': 0.8902282968502666, 'rmse': 44325.760501253324},\n",
      " 'train': {'r2': 0.9286829764175979, 'rmse': 34490.63328469459}}\n",
      "{'test': {'r2': 0.9041999121908457, 'rmse': 41549.17560224779},\n",
      " 'train': {'r2': 0.9044114144138606, 'rmse': 40343.316002011605}}\n",
      "{'test': {'r2': 0.9055631945018121, 'rmse': 41252.483712469504},\n",
      " 'train': {'r2': 0.9334050486835495, 'rmse': 33673.575067466314}}\n",
      "{'test': {'r2': 0.8998325492959113, 'rmse': 42485.699014355174},\n",
      " 'train': {'r2': 0.9007155871312984, 'rmse': 41115.83459074419}}\n"
     ]
    },
    {
     "name": "stderr",
     "output_type": "stream",
     "text": [
      "C:\\Users\\danie\\anaconda3\\envs\\yingning\\lib\\site-packages\\sklearn\\neural_network\\_multilayer_perceptron.py:691: ConvergenceWarning: Stochastic Optimizer: Maximum iterations (5000) reached and the optimization hasn't converged yet.\n",
      "  warnings.warn(\n"
     ]
    },
    {
     "name": "stdout",
     "output_type": "stream",
     "text": [
      "{'test': {'r2': 0.9220524260259718, 'rmse': 37478.37557467678},\n",
      " 'train': {'r2': 0.9320744972771201, 'rmse': 34008.30641341786}}\n"
     ]
    },
    {
     "name": "stderr",
     "output_type": "stream",
     "text": [
      "C:\\Users\\danie\\anaconda3\\envs\\yingning\\lib\\site-packages\\sklearn\\neural_network\\_multilayer_perceptron.py:691: ConvergenceWarning: Stochastic Optimizer: Maximum iterations (5000) reached and the optimization hasn't converged yet.\n",
      "  warnings.warn(\n"
     ]
    },
    {
     "name": "stdout",
     "output_type": "stream",
     "text": [
      "{'test': {'r2': -3.631715680386595, 'rmse': 287926.7004689631},\n",
      " 'train': {'r2': -3.6632609980791804, 'rmse': 278900.5850813178}}\n"
     ]
    },
    {
     "name": "stderr",
     "output_type": "stream",
     "text": [
      "C:\\Users\\danie\\anaconda3\\envs\\yingning\\lib\\site-packages\\sklearn\\neural_network\\_multilayer_perceptron.py:691: ConvergenceWarning: Stochastic Optimizer: Maximum iterations (5000) reached and the optimization hasn't converged yet.\n",
      "  warnings.warn(\n"
     ]
    },
    {
     "name": "stdout",
     "output_type": "stream",
     "text": [
      "{'test': {'r2': -3.6286224150864665, 'rmse': 287830.5392963158},\n",
      " 'train': {'r2': -3.66004259957277, 'rmse': 278804.32538723294}}\n"
     ]
    },
    {
     "name": "stderr",
     "output_type": "stream",
     "text": [
      "C:\\Users\\danie\\anaconda3\\envs\\yingning\\lib\\site-packages\\sklearn\\neural_network\\_multilayer_perceptron.py:691: ConvergenceWarning: Stochastic Optimizer: Maximum iterations (5000) reached and the optimization hasn't converged yet.\n",
      "  warnings.warn(\n"
     ]
    },
    {
     "name": "stdout",
     "output_type": "stream",
     "text": [
      "{'test': {'r2': -3.631616269607629, 'rmse': 287923.6105587506},\n",
      " 'train': {'r2': -3.6631514724909637, 'rmse': 278897.30980571004}}\n"
     ]
    },
    {
     "name": "stderr",
     "output_type": "stream",
     "text": [
      "C:\\Users\\danie\\anaconda3\\envs\\yingning\\lib\\site-packages\\sklearn\\neural_network\\_multilayer_perceptron.py:691: ConvergenceWarning: Stochastic Optimizer: Maximum iterations (5000) reached and the optimization hasn't converged yet.\n",
      "  warnings.warn(\n"
     ]
    },
    {
     "name": "stdout",
     "output_type": "stream",
     "text": [
      "{'test': {'r2': -3.6298037219420385, 'rmse': 287867.26669240097},\n",
      " 'train': {'r2': -3.6612715728124146, 'rmse': 278841.08690386143}}\n"
     ]
    },
    {
     "name": "stderr",
     "output_type": "stream",
     "text": [
      "C:\\Users\\danie\\anaconda3\\envs\\yingning\\lib\\site-packages\\sklearn\\neural_network\\_multilayer_perceptron.py:691: ConvergenceWarning: Stochastic Optimizer: Maximum iterations (5000) reached and the optimization hasn't converged yet.\n",
      "  warnings.warn(\n"
     ]
    },
    {
     "name": "stdout",
     "output_type": "stream",
     "text": [
      "{'test': {'r2': -3.630373115767296, 'rmse': 288860.0296786985},\n",
      " 'train': {'r2': -3.657192793214252, 'rmse': 281598.72404829017}}\n"
     ]
    },
    {
     "name": "stderr",
     "output_type": "stream",
     "text": [
      "C:\\Users\\danie\\anaconda3\\envs\\yingning\\lib\\site-packages\\sklearn\\neural_network\\_multilayer_perceptron.py:691: ConvergenceWarning: Stochastic Optimizer: Maximum iterations (5000) reached and the optimization hasn't converged yet.\n",
      "  warnings.warn(\n"
     ]
    },
    {
     "name": "stdout",
     "output_type": "stream",
     "text": [
      "{'test': {'r2': -3.6273884083845003, 'rmse': 288766.9160545392},\n",
      " 'train': {'r2': -3.6541300718572316, 'rmse': 281506.114583064}}\n"
     ]
    },
    {
     "name": "stderr",
     "output_type": "stream",
     "text": [
      "C:\\Users\\danie\\anaconda3\\envs\\yingning\\lib\\site-packages\\sklearn\\neural_network\\_multilayer_perceptron.py:691: ConvergenceWarning: Stochastic Optimizer: Maximum iterations (5000) reached and the optimization hasn't converged yet.\n",
      "  warnings.warn(\n"
     ]
    },
    {
     "name": "stdout",
     "output_type": "stream",
     "text": [
      "{'test': {'r2': -3.6303931760779573, 'rmse': 288860.6553967035},\n",
      " 'train': {'r2': -3.6572329071674146, 'rmse': 281599.9367974939}}\n"
     ]
    },
    {
     "name": "stderr",
     "output_type": "stream",
     "text": [
      "C:\\Users\\danie\\anaconda3\\envs\\yingning\\lib\\site-packages\\sklearn\\neural_network\\_multilayer_perceptron.py:691: ConvergenceWarning: Stochastic Optimizer: Maximum iterations (5000) reached and the optimization hasn't converged yet.\n",
      "  warnings.warn(\n"
     ]
    },
    {
     "name": "stdout",
     "output_type": "stream",
     "text": [
      "{'test': {'r2': -3.6284020369758503, 'rmse': 288798.5414930341},\n",
      " 'train': {'r2': -3.6551766832650383, 'rmse': 281537.76506815926}}\n",
      "{'test': {'r2': 0.9012085722122698, 'rmse': 42050.447836423795},\n",
      " 'train': {'r2': 0.9114547479950458, 'rmse': 38431.48826491186}}\n"
     ]
    },
    {
     "name": "stderr",
     "output_type": "stream",
     "text": [
      "C:\\Users\\danie\\anaconda3\\envs\\yingning\\lib\\site-packages\\sklearn\\neural_network\\_multilayer_perceptron.py:691: ConvergenceWarning: Stochastic Optimizer: Maximum iterations (5000) reached and the optimization hasn't converged yet.\n",
      "  warnings.warn(\n"
     ]
    },
    {
     "name": "stdout",
     "output_type": "stream",
     "text": [
      "{'test': {'r2': 0.8672078969742174, 'rmse': 48752.52556947221},\n",
      " 'train': {'r2': 0.9377932039330221, 'rmse': 32212.429468622402}}\n",
      "{'test': {'r2': 0.8862872420350467, 'rmse': 45114.442066873264},\n",
      " 'train': {'r2': 0.9042895278261116, 'rmse': 39956.210563770255}}\n",
      "{'test': {'r2': 0.882784435571036, 'rmse': 45804.02424685133},\n",
      " 'train': {'r2': 0.9299446725215125, 'rmse': 34184.17849628602}}\n",
      "{'test': {'r2': 0.8941204607714797, 'rmse': 43680.28656556978},\n",
      " 'train': {'r2': 0.8786332589227495, 'rmse': 45458.84734105455}}\n"
     ]
    },
    {
     "name": "stderr",
     "output_type": "stream",
     "text": [
      "C:\\Users\\danie\\anaconda3\\envs\\yingning\\lib\\site-packages\\sklearn\\neural_network\\_multilayer_perceptron.py:691: ConvergenceWarning: Stochastic Optimizer: Maximum iterations (5000) reached and the optimization hasn't converged yet.\n",
      "  warnings.warn(\n"
     ]
    },
    {
     "name": "stdout",
     "output_type": "stream",
     "text": [
      "{'test': {'r2': 0.9005556859895288, 'rmse': 42332.06318670792},\n",
      " 'train': {'r2': 0.9304258409376296, 'rmse': 34418.54896379658}}\n",
      "{'test': {'r2': 0.9136528441934518, 'rmse': 39446.04592627291},\n",
      " 'train': {'r2': 0.8947852812790207, 'rmse': 42325.96061812219}}\n",
      "{'test': {'r2': 0.9213608443910013, 'rmse': 37644.2698859888},\n",
      " 'train': {'r2': 0.9296324036916017, 'rmse': 34614.25050529405}}\n"
     ]
    },
    {
     "name": "stderr",
     "output_type": "stream",
     "text": [
      "C:\\Users\\danie\\anaconda3\\envs\\yingning\\lib\\site-packages\\sklearn\\neural_network\\_multilayer_perceptron.py:691: ConvergenceWarning: Stochastic Optimizer: Maximum iterations (5000) reached and the optimization hasn't converged yet.\n",
      "  warnings.warn(\n"
     ]
    },
    {
     "name": "stdout",
     "output_type": "stream",
     "text": [
      "{'test': {'r2': -3.6316170246044015, 'rmse': 287923.6340258704},\n",
      " 'train': {'r2': -3.6631580555269423, 'rmse': 278897.5066672519}}\n"
     ]
    },
    {
     "name": "stderr",
     "output_type": "stream",
     "text": [
      "C:\\Users\\danie\\anaconda3\\envs\\yingning\\lib\\site-packages\\sklearn\\neural_network\\_multilayer_perceptron.py:691: ConvergenceWarning: Stochastic Optimizer: Maximum iterations (5000) reached and the optimization hasn't converged yet.\n",
      "  warnings.warn(\n"
     ]
    },
    {
     "name": "stdout",
     "output_type": "stream",
     "text": [
      "{'test': {'r2': -3.6287180079364365, 'rmse': 287833.51149808906},\n",
      " 'train': {'r2': -3.6601420494312684, 'rmse': 278807.3003496058}}\n"
     ]
    },
    {
     "name": "stderr",
     "output_type": "stream",
     "text": [
      "C:\\Users\\danie\\anaconda3\\envs\\yingning\\lib\\site-packages\\sklearn\\neural_network\\_multilayer_perceptron.py:691: ConvergenceWarning: Stochastic Optimizer: Maximum iterations (5000) reached and the optimization hasn't converged yet.\n",
      "  warnings.warn(\n"
     ]
    },
    {
     "name": "stdout",
     "output_type": "stream",
     "text": [
      "{'test': {'r2': -3.6317656168048256, 'rmse': 287928.25259244966},\n",
      " 'train': {'r2': -3.663192060754084, 'rmse': 278898.5235699239}}\n"
     ]
    },
    {
     "name": "stderr",
     "output_type": "stream",
     "text": [
      "C:\\Users\\danie\\anaconda3\\envs\\yingning\\lib\\site-packages\\sklearn\\neural_network\\_multilayer_perceptron.py:691: ConvergenceWarning: Stochastic Optimizer: Maximum iterations (5000) reached and the optimization hasn't converged yet.\n",
      "  warnings.warn(\n"
     ]
    },
    {
     "name": "stdout",
     "output_type": "stream",
     "text": [
      "{'test': {'r2': -3.6296832818871607, 'rmse': 287863.52236791496},\n",
      " 'train': {'r2': -3.6611462726399493, 'rmse': 278837.3390991545}}\n"
     ]
    },
    {
     "name": "stderr",
     "output_type": "stream",
     "text": [
      "C:\\Users\\danie\\anaconda3\\envs\\yingning\\lib\\site-packages\\sklearn\\neural_network\\_multilayer_perceptron.py:691: ConvergenceWarning: Stochastic Optimizer: Maximum iterations (5000) reached and the optimization hasn't converged yet.\n",
      "  warnings.warn(\n"
     ]
    },
    {
     "name": "stdout",
     "output_type": "stream",
     "text": [
      "{'test': {'r2': -3.6302868964320965, 'rmse': 288857.34032353864},\n",
      " 'train': {'r2': -3.6571228845273858, 'rmse': 281596.6105142609}}\n"
     ]
    },
    {
     "name": "stderr",
     "output_type": "stream",
     "text": [
      "C:\\Users\\danie\\anaconda3\\envs\\yingning\\lib\\site-packages\\sklearn\\neural_network\\_multilayer_perceptron.py:691: ConvergenceWarning: Stochastic Optimizer: Maximum iterations (5000) reached and the optimization hasn't converged yet.\n",
      "  warnings.warn(\n"
     ]
    },
    {
     "name": "stdout",
     "output_type": "stream",
     "text": [
      "{'test': {'r2': -3.6274659881142073, 'rmse': 288769.33668183733},\n",
      " 'train': {'r2': -3.6542101758258614, 'rmse': 281508.53712600935}}\n"
     ]
    },
    {
     "name": "stderr",
     "output_type": "stream",
     "text": [
      "C:\\Users\\danie\\anaconda3\\envs\\yingning\\lib\\site-packages\\sklearn\\neural_network\\_multilayer_perceptron.py:691: ConvergenceWarning: Stochastic Optimizer: Maximum iterations (5000) reached and the optimization hasn't converged yet.\n",
      "  warnings.warn(\n"
     ]
    },
    {
     "name": "stdout",
     "output_type": "stream",
     "text": [
      "{'test': {'r2': -3.6302094445495, 'rmse': 288854.9244215795},\n",
      " 'train': {'r2': -3.6570122014523117, 'rmse': 281593.2642246369}}\n"
     ]
    },
    {
     "name": "stderr",
     "output_type": "stream",
     "text": [
      "C:\\Users\\danie\\anaconda3\\envs\\yingning\\lib\\site-packages\\sklearn\\neural_network\\_multilayer_perceptron.py:691: ConvergenceWarning: Stochastic Optimizer: Maximum iterations (5000) reached and the optimization hasn't converged yet.\n",
      "  warnings.warn(\n"
     ]
    },
    {
     "name": "stdout",
     "output_type": "stream",
     "text": [
      "{'test': {'r2': -3.6284664350327445, 'rmse': 288800.5506097947},\n",
      " 'train': {'r2': -3.6552431769157803, 'rmse': 281539.7757766936}}\n",
      "{'test': {'r2': 0.8536479390418096, 'rmse': 51181.19427804052},\n",
      " 'train': {'r2': 0.8727196034004944, 'rmse': 46077.1197381546}}\n",
      "{'test': {'r2': 0.8475562080462248, 'rmse': 52235.51319516213},\n",
      " 'train': {'r2': 0.9442880360543165, 'rmse': 30484.480467296522}}\n",
      "{'test': {'r2': 0.899805165623678, 'rmse': 42348.07369474394},\n",
      " 'train': {'r2': 0.9136348537601497, 'rmse': 37955.42162547602}}\n",
      "{'test': {'r2': 0.8706929572984227, 'rmse': 48108.52968444569},\n",
      " 'train': {'r2': 0.9366240227738063, 'rmse': 32513.737733848375}}\n",
      "{'test': {'r2': 0.8871221928061592, 'rmse': 45100.74746624796},\n",
      " 'train': {'r2': 0.8907667465065586, 'rmse': 43126.67826576631}}\n"
     ]
    },
    {
     "name": "stderr",
     "output_type": "stream",
     "text": [
      "C:\\Users\\danie\\anaconda3\\envs\\yingning\\lib\\site-packages\\sklearn\\neural_network\\_multilayer_perceptron.py:691: ConvergenceWarning: Stochastic Optimizer: Maximum iterations (5000) reached and the optimization hasn't converged yet.\n",
      "  warnings.warn(\n"
     ]
    },
    {
     "name": "stdout",
     "output_type": "stream",
     "text": [
      "{'test': {'r2': 0.9083645802129492, 'rmse': 40636.018038745555},\n",
      " 'train': {'r2': 0.944314263469262, 'rmse': 30792.18862018513}}\n",
      "{'test': {'r2': 0.9173662517759041, 'rmse': 38588.52547664317},\n",
      " 'train': {'r2': 0.9126882230645244, 'rmse': 38557.155569130366}}\n",
      "{'test': {'r2': 0.9213552643586106, 'rmse': 37645.605432622855},\n",
      " 'train': {'r2': 0.9320677770691431, 'rmse': 34009.98867729842}}\n"
     ]
    },
    {
     "name": "stderr",
     "output_type": "stream",
     "text": [
      "C:\\Users\\danie\\anaconda3\\envs\\yingning\\lib\\site-packages\\sklearn\\neural_network\\_multilayer_perceptron.py:691: ConvergenceWarning: Stochastic Optimizer: Maximum iterations (5000) reached and the optimization hasn't converged yet.\n",
      "  warnings.warn(\n"
     ]
    },
    {
     "name": "stdout",
     "output_type": "stream",
     "text": [
      "{'test': {'r2': -3.3656881067995927, 'rmse': 279535.7430320885},\n",
      " 'train': {'r2': -3.386661754994501, 'rmse': 270502.72090192535}}\n"
     ]
    },
    {
     "name": "stderr",
     "output_type": "stream",
     "text": [
      "C:\\Users\\danie\\anaconda3\\envs\\yingning\\lib\\site-packages\\sklearn\\neural_network\\_multilayer_perceptron.py:691: ConvergenceWarning: Stochastic Optimizer: Maximum iterations (5000) reached and the optimization hasn't converged yet.\n",
      "  warnings.warn(\n"
     ]
    },
    {
     "name": "stdout",
     "output_type": "stream",
     "text": [
      "{'test': {'r2': -3.3601476485680593, 'rmse': 279358.30848328513},\n",
      " 'train': {'r2': -3.380904037760452, 'rmse': 270325.1383040332}}\n"
     ]
    },
    {
     "name": "stderr",
     "output_type": "stream",
     "text": [
      "C:\\Users\\danie\\anaconda3\\envs\\yingning\\lib\\site-packages\\sklearn\\neural_network\\_multilayer_perceptron.py:691: ConvergenceWarning: Stochastic Optimizer: Maximum iterations (5000) reached and the optimization hasn't converged yet.\n",
      "  warnings.warn(\n"
     ]
    },
    {
     "name": "stdout",
     "output_type": "stream",
     "text": [
      "{'test': {'r2': -3.3653291958684655, 'rmse': 279524.2522323005},\n",
      " 'train': {'r2': -3.3862882219004575, 'rmse': 270491.2037306688}}\n"
     ]
    },
    {
     "name": "stderr",
     "output_type": "stream",
     "text": [
      "C:\\Users\\danie\\anaconda3\\envs\\yingning\\lib\\site-packages\\sklearn\\neural_network\\_multilayer_perceptron.py:691: ConvergenceWarning: Stochastic Optimizer: Maximum iterations (5000) reached and the optimization hasn't converged yet.\n",
      "  warnings.warn(\n"
     ]
    },
    {
     "name": "stdout",
     "output_type": "stream",
     "text": [
      "{'test': {'r2': -3.361993177309251, 'rmse': 279417.4245138134},\n",
      " 'train': {'r2': -3.3828216748405797, 'rmse': 270384.2960474007}}\n"
     ]
    },
    {
     "name": "stderr",
     "output_type": "stream",
     "text": [
      "C:\\Users\\danie\\anaconda3\\envs\\yingning\\lib\\site-packages\\sklearn\\neural_network\\_multilayer_perceptron.py:691: ConvergenceWarning: Stochastic Optimizer: Maximum iterations (5000) reached and the optimization hasn't converged yet.\n",
      "  warnings.warn(\n"
     ]
    },
    {
     "name": "stdout",
     "output_type": "stream",
     "text": [
      "{'test': {'r2': -3.3652437001667908, 'rmse': 280468.25000206137},\n",
      " 'train': {'r2': -3.3835832428712926, 'rmse': 273201.57789588376}}\n"
     ]
    },
    {
     "name": "stderr",
     "output_type": "stream",
     "text": [
      "C:\\Users\\danie\\anaconda3\\envs\\yingning\\lib\\site-packages\\sklearn\\neural_network\\_multilayer_perceptron.py:691: ConvergenceWarning: Stochastic Optimizer: Maximum iterations (5000) reached and the optimization hasn't converged yet.\n",
      "  warnings.warn(\n"
     ]
    },
    {
     "name": "stdout",
     "output_type": "stream",
     "text": [
      "{'test': {'r2': -3.3597344487778393, 'rmse': 280291.2085767853},\n",
      " 'train': {'r2': -3.3778995896100215, 'rmse': 273024.4070056102}}\n"
     ]
    },
    {
     "name": "stderr",
     "output_type": "stream",
     "text": [
      "C:\\Users\\danie\\anaconda3\\envs\\yingning\\lib\\site-packages\\sklearn\\neural_network\\_multilayer_perceptron.py:691: ConvergenceWarning: Stochastic Optimizer: Maximum iterations (5000) reached and the optimization hasn't converged yet.\n",
      "  warnings.warn(\n"
     ]
    },
    {
     "name": "stdout",
     "output_type": "stream",
     "text": [
      "{'test': {'r2': -3.3649598751750114, 'rmse': 280459.1319323489},\n",
      " 'train': {'r2': -3.3832900770130143, 'rmse': 273192.4421375557}}\n"
     ]
    },
    {
     "name": "stderr",
     "output_type": "stream",
     "text": [
      "C:\\Users\\danie\\anaconda3\\envs\\yingning\\lib\\site-packages\\sklearn\\neural_network\\_multilayer_perceptron.py:691: ConvergenceWarning: Stochastic Optimizer: Maximum iterations (5000) reached and the optimization hasn't converged yet.\n",
      "  warnings.warn(\n"
     ]
    },
    {
     "name": "stdout",
     "output_type": "stream",
     "text": [
      "{'test': {'r2': -3.36167298693655, 'rmse': 280353.51682319527},\n",
      " 'train': {'r2': -3.3798992569455963, 'rmse': 273086.7537598085}}\n",
      "{'test': {'r2': 0.9024119318159661, 'rmse': 41793.5589047024},\n",
      " 'train': {'r2': 0.9095384266878728, 'rmse': 38845.13473339823}}\n"
     ]
    },
    {
     "name": "stderr",
     "output_type": "stream",
     "text": [
      "C:\\Users\\danie\\anaconda3\\envs\\yingning\\lib\\site-packages\\sklearn\\neural_network\\_multilayer_perceptron.py:691: ConvergenceWarning: Stochastic Optimizer: Maximum iterations (5000) reached and the optimization hasn't converged yet.\n",
      "  warnings.warn(\n"
     ]
    },
    {
     "name": "stdout",
     "output_type": "stream",
     "text": [
      "{'test': {'r2': 0.8404208840036957, 'rmse': 53444.008178283904},\n",
      " 'train': {'r2': 0.9441183992348792, 'rmse': 30530.856141581648}}\n",
      "{'test': {'r2': 0.8811361690603001, 'rmse': 46124.944433022414},\n",
      " 'train': {'r2': 0.8945630902675976, 'rmse': 41937.34168779659}}\n",
      "{'test': {'r2': 0.8842132260586963, 'rmse': 45524.005925197496},\n",
      " 'train': {'r2': 0.9294095921390242, 'rmse': 34314.47900056734}}\n",
      "{'test': {'r2': 0.8780569604841318, 'rmse': 46876.80088662901},\n",
      " 'train': {'r2': 0.8859104064715383, 'rmse': 44074.92588763752}}\n"
     ]
    },
    {
     "name": "stderr",
     "output_type": "stream",
     "text": [
      "C:\\Users\\danie\\anaconda3\\envs\\yingning\\lib\\site-packages\\sklearn\\neural_network\\_multilayer_perceptron.py:691: ConvergenceWarning: Stochastic Optimizer: Maximum iterations (5000) reached and the optimization hasn't converged yet.\n",
      "  warnings.warn(\n"
     ]
    },
    {
     "name": "stdout",
     "output_type": "stream",
     "text": [
      "{'test': {'r2': 0.9079945843927184, 'rmse': 40717.97330550047},\n",
      " 'train': {'r2': 0.9446377682114097, 'rmse': 30702.615154105046}}\n",
      "{'test': {'r2': 0.9152380829962807, 'rmse': 39082.27557900702},\n",
      " 'train': {'r2': 0.9082940723996574, 'rmse': 39515.48150829143}}\n",
      "{'test': {'r2': 0.9155390524905527, 'rmse': 39012.82792351118},\n",
      " 'train': {'r2': 0.9270576955121629, 'rmse': 35241.8188312416}}\n"
     ]
    },
    {
     "name": "stderr",
     "output_type": "stream",
     "text": [
      "C:\\Users\\danie\\anaconda3\\envs\\yingning\\lib\\site-packages\\sklearn\\neural_network\\_multilayer_perceptron.py:691: ConvergenceWarning: Stochastic Optimizer: Maximum iterations (5000) reached and the optimization hasn't converged yet.\n",
      "  warnings.warn(\n"
     ]
    },
    {
     "name": "stdout",
     "output_type": "stream",
     "text": [
      "{'test': {'r2': -3.365522408995618, 'rmse': 279530.43815263687},\n",
      " 'train': {'r2': -3.3864850029046725, 'rmse': 270497.27115385653}}\n"
     ]
    },
    {
     "name": "stderr",
     "output_type": "stream",
     "text": [
      "C:\\Users\\danie\\anaconda3\\envs\\yingning\\lib\\site-packages\\sklearn\\neural_network\\_multilayer_perceptron.py:691: ConvergenceWarning: Stochastic Optimizer: Maximum iterations (5000) reached and the optimization hasn't converged yet.\n",
      "  warnings.warn(\n"
     ]
    },
    {
     "name": "stdout",
     "output_type": "stream",
     "text": [
      "{'test': {'r2': -3.3599665383654527, 'rmse': 279352.50648191577},\n",
      " 'train': {'r2': -3.380715852203733, 'rmse': 270319.3322155495}}\n"
     ]
    },
    {
     "name": "stderr",
     "output_type": "stream",
     "text": [
      "C:\\Users\\danie\\anaconda3\\envs\\yingning\\lib\\site-packages\\sklearn\\neural_network\\_multilayer_perceptron.py:691: ConvergenceWarning: Stochastic Optimizer: Maximum iterations (5000) reached and the optimization hasn't converged yet.\n",
      "  warnings.warn(\n"
     ]
    },
    {
     "name": "stdout",
     "output_type": "stream",
     "text": [
      "{'test': {'r2': -3.3654163522068092, 'rmse': 279527.0426505725},\n",
      " 'train': {'r2': -3.386378785548091, 'rmse': 270493.99613080063}}\n"
     ]
    },
    {
     "name": "stderr",
     "output_type": "stream",
     "text": [
      "C:\\Users\\danie\\anaconda3\\envs\\yingning\\lib\\site-packages\\sklearn\\neural_network\\_multilayer_perceptron.py:691: ConvergenceWarning: Stochastic Optimizer: Maximum iterations (5000) reached and the optimization hasn't converged yet.\n",
      "  warnings.warn(\n"
     ]
    },
    {
     "name": "stdout",
     "output_type": "stream",
     "text": [
      "{'test': {'r2': -3.3621488430250954, 'rmse': 279422.4102306164},\n",
      " 'train': {'r2': -3.382983423509968, 'rmse': 270389.2852871937}}\n"
     ]
    },
    {
     "name": "stderr",
     "output_type": "stream",
     "text": [
      "C:\\Users\\danie\\anaconda3\\envs\\yingning\\lib\\site-packages\\sklearn\\neural_network\\_multilayer_perceptron.py:691: ConvergenceWarning: Stochastic Optimizer: Maximum iterations (5000) reached and the optimization hasn't converged yet.\n",
      "  warnings.warn(\n"
     ]
    },
    {
     "name": "stdout",
     "output_type": "stream",
     "text": [
      "{'test': {'r2': -3.3649591551544917, 'rmse': 280459.10880082595},\n",
      " 'train': {'r2': -3.3832892083211794, 'rmse': 273192.4150665598}}\n"
     ]
    },
    {
     "name": "stderr",
     "output_type": "stream",
     "text": [
      "C:\\Users\\danie\\anaconda3\\envs\\yingning\\lib\\site-packages\\sklearn\\neural_network\\_multilayer_perceptron.py:691: ConvergenceWarning: Stochastic Optimizer: Maximum iterations (5000) reached and the optimization hasn't converged yet.\n",
      "  warnings.warn(\n"
     ]
    },
    {
     "name": "stdout",
     "output_type": "stream",
     "text": [
      "{'test': {'r2': -3.359622678832361, 'rmse': 280287.61565911333},\n",
      " 'train': {'r2': -3.3777842955377846, 'rmse': 273020.811867998}}\n"
     ]
    },
    {
     "name": "stderr",
     "output_type": "stream",
     "text": [
      "C:\\Users\\danie\\anaconda3\\envs\\yingning\\lib\\site-packages\\sklearn\\neural_network\\_multilayer_perceptron.py:691: ConvergenceWarning: Stochastic Optimizer: Maximum iterations (5000) reached and the optimization hasn't converged yet.\n",
      "  warnings.warn(\n"
     ]
    },
    {
     "name": "stdout",
     "output_type": "stream",
     "text": [
      "{'test': {'r2': -3.36491785781236, 'rmse': 280457.78207098116},\n",
      " 'train': {'r2': -3.383240372940686, 'rmse': 273190.8932079664}}\n"
     ]
    },
    {
     "name": "stderr",
     "output_type": "stream",
     "text": [
      "C:\\Users\\danie\\anaconda3\\envs\\yingning\\lib\\site-packages\\sklearn\\neural_network\\_multilayer_perceptron.py:691: ConvergenceWarning: Stochastic Optimizer: Maximum iterations (5000) reached and the optimization hasn't converged yet.\n",
      "  warnings.warn(\n"
     ]
    },
    {
     "name": "stdout",
     "output_type": "stream",
     "text": [
      "{'test': {'r2': -3.3616658515380475, 'rmse': 280353.2875035181},\n",
      " 'train': {'r2': -3.3798918965185685, 'rmse': 273086.52429837}}\n",
      "{'test': {'r2': 0.8705328851947609, 'rmse': 48138.297791444944},\n",
      " 'train': {'r2': 0.8820023283157484, 'rmse': 44365.081403743665}}\n",
      "{'test': {'r2': 0.8422013148952929, 'rmse': 53145.03340004076},\n",
      " 'train': {'r2': 0.9403228283086442, 'rmse': 31550.67680342767}}\n",
      "{'test': {'r2': 0.8934366713713806, 'rmse': 43673.186795721784},\n",
      " 'train': {'r2': 0.9038852332375107, 'rmse': 40040.511978238676}}\n",
      "{'test': {'r2': 0.8813933129211715, 'rmse': 46075.025261313895},\n",
      " 'train': {'r2': 0.9375786888713106, 'rmse': 32267.9226365249}}\n",
      "{'test': {'r2': 0.9094775869226177, 'rmse': 40388.48091318744},\n",
      " 'train': {'r2': 0.9121784412051297, 'rmse': 38669.552383829025}}\n",
      "{'test': {'r2': 0.9088387822772738, 'rmse': 40530.7384538399},\n",
      " 'train': {'r2': 0.9411167886071274, 'rmse': 31663.893644142234}}\n",
      "{'test': {'r2': 0.9003901736363474, 'rmse': 42367.2766955894},\n",
      " 'train': {'r2': 0.8714270662001045, 'rmse': 46788.955599330766}}\n",
      "{'test': {'r2': 0.9188857284186116, 'rmse': 38232.094751243276},\n",
      " 'train': {'r2': 0.9345661406530861, 'rmse': 33378.73259743349}}\n"
     ]
    },
    {
     "name": "stderr",
     "output_type": "stream",
     "text": [
      "C:\\Users\\danie\\anaconda3\\envs\\yingning\\lib\\site-packages\\sklearn\\neural_network\\_multilayer_perceptron.py:691: ConvergenceWarning: Stochastic Optimizer: Maximum iterations (5000) reached and the optimization hasn't converged yet.\n",
      "  warnings.warn(\n"
     ]
    },
    {
     "name": "stdout",
     "output_type": "stream",
     "text": [
      "{'test': {'r2': -3.3654397513070125, 'rmse': 279527.7917970442},\n",
      " 'train': {'r2': -3.3864033888105256, 'rmse': 270494.75473211706}}\n"
     ]
    },
    {
     "name": "stderr",
     "output_type": "stream",
     "text": [
      "C:\\Users\\danie\\anaconda3\\envs\\yingning\\lib\\site-packages\\sklearn\\neural_network\\_multilayer_perceptron.py:691: ConvergenceWarning: Stochastic Optimizer: Maximum iterations (5000) reached and the optimization hasn't converged yet.\n",
      "  warnings.warn(\n"
     ]
    },
    {
     "name": "stdout",
     "output_type": "stream",
     "text": [
      "{'test': {'r2': -3.3600163127473914, 'rmse': 279354.10105363396},\n",
      " 'train': {'r2': -3.380767571089504, 'rmse': 270320.9279106222}}\n"
     ]
    },
    {
     "name": "stderr",
     "output_type": "stream",
     "text": [
      "C:\\Users\\danie\\anaconda3\\envs\\yingning\\lib\\site-packages\\sklearn\\neural_network\\_multilayer_perceptron.py:691: ConvergenceWarning: Stochastic Optimizer: Maximum iterations (5000) reached and the optimization hasn't converged yet.\n",
      "  warnings.warn(\n"
     ]
    },
    {
     "name": "stdout",
     "output_type": "stream",
     "text": [
      "{'test': {'r2': -3.365389848568939, 'rmse': 279526.1941066811},\n",
      " 'train': {'r2': -3.3863512457100144, 'rmse': 270493.14698245854}}\n"
     ]
    },
    {
     "name": "stderr",
     "output_type": "stream",
     "text": [
      "C:\\Users\\danie\\anaconda3\\envs\\yingning\\lib\\site-packages\\sklearn\\neural_network\\_multilayer_perceptron.py:691: ConvergenceWarning: Stochastic Optimizer: Maximum iterations (5000) reached and the optimization hasn't converged yet.\n",
      "  warnings.warn(\n"
     ]
    },
    {
     "name": "stdout",
     "output_type": "stream",
     "text": [
      "{'test': {'r2': -3.3620233707552574, 'rmse': 279418.3915671739},\n",
      " 'train': {'r2': -3.382853048147213, 'rmse': 270385.26378404134}}\n",
      "{'test': {'r2': -3.6285735073065464, 'rmse': 288803.8910631856},\n",
      " 'train': {'r2': -3.6553534495071247, 'rmse': 281543.11028958694}}\n"
     ]
    },
    {
     "name": "stderr",
     "output_type": "stream",
     "text": [
      "C:\\Users\\danie\\anaconda3\\envs\\yingning\\lib\\site-packages\\sklearn\\neural_network\\_multilayer_perceptron.py:691: ConvergenceWarning: Stochastic Optimizer: Maximum iterations (5000) reached and the optimization hasn't converged yet.\n",
      "  warnings.warn(\n"
     ]
    },
    {
     "name": "stdout",
     "output_type": "stream",
     "text": [
      "{'test': {'r2': -3.359713291502871, 'rmse': 280290.5284659396},\n",
      " 'train': {'r2': -3.377877765249342, 'rmse': 273023.72647486284}}\n"
     ]
    },
    {
     "name": "stderr",
     "output_type": "stream",
     "text": [
      "C:\\Users\\danie\\anaconda3\\envs\\yingning\\lib\\site-packages\\sklearn\\neural_network\\_multilayer_perceptron.py:691: ConvergenceWarning: Stochastic Optimizer: Maximum iterations (5000) reached and the optimization hasn't converged yet.\n",
      "  warnings.warn(\n"
     ]
    },
    {
     "name": "stdout",
     "output_type": "stream",
     "text": [
      "{'test': {'r2': -3.365129608571351, 'rmse': 280464.58476806775},\n",
      " 'train': {'r2': -3.3834651655007475, 'rmse': 273197.89835572266}}\n"
     ]
    },
    {
     "name": "stderr",
     "output_type": "stream",
     "text": [
      "C:\\Users\\danie\\anaconda3\\envs\\yingning\\lib\\site-packages\\sklearn\\neural_network\\_multilayer_perceptron.py:691: ConvergenceWarning: Stochastic Optimizer: Maximum iterations (5000) reached and the optimization hasn't converged yet.\n",
      "  warnings.warn(\n"
     ]
    },
    {
     "name": "stdout",
     "output_type": "stream",
     "text": [
      "{'test': {'r2': -3.361747280679057, 'rmse': 280355.9044876715},\n",
      " 'train': {'r2': -3.3799758937411957, 'rmse': 273089.1429017674}}\n",
      "{'test': {'r2': 0.8712717893026982, 'rmse': 48000.73203694598},\n",
      " 'train': {'r2': 0.8772488579480149, 'rmse': 45249.86985537346}}\n"
     ]
    },
    {
     "name": "stderr",
     "output_type": "stream",
     "text": [
      "C:\\Users\\danie\\anaconda3\\envs\\yingning\\lib\\site-packages\\sklearn\\neural_network\\_multilayer_perceptron.py:691: ConvergenceWarning: Stochastic Optimizer: Maximum iterations (5000) reached and the optimization hasn't converged yet.\n",
      "  warnings.warn(\n"
     ]
    },
    {
     "name": "stdout",
     "output_type": "stream",
     "text": [
      "{'test': {'r2': 0.8486925399897072, 'rmse': 52040.46455212862},\n",
      " 'train': {'r2': 0.9471616398887889, 'rmse': 29687.88294319644}}\n",
      "{'test': {'r2': 0.8664160442027344, 'rmse': 48897.667642863205},\n",
      " 'train': {'r2': 0.8787301355959002, 'rmse': 44976.01879379203}}\n",
      "{'test': {'r2': 0.8904584463525718, 'rmse': 44279.26899100099},\n",
      " 'train': {'r2': 0.9532793655593637, 'rmse': 27916.368958057177}}\n",
      "{'test': {'r2': 0.909847002001028, 'rmse': 40305.985504386306},\n",
      " 'train': {'r2': 0.9084826512870328, 'rmse': 39474.83189853582}}\n"
     ]
    },
    {
     "name": "stderr",
     "output_type": "stream",
     "text": [
      "C:\\Users\\danie\\anaconda3\\envs\\yingning\\lib\\site-packages\\sklearn\\neural_network\\_multilayer_perceptron.py:691: ConvergenceWarning: Stochastic Optimizer: Maximum iterations (5000) reached and the optimization hasn't converged yet.\n",
      "  warnings.warn(\n"
     ]
    },
    {
     "name": "stdout",
     "output_type": "stream",
     "text": [
      "{'test': {'r2': 0.9101381306049245, 'rmse': 40240.85337273786},\n",
      " 'train': {'r2': 0.9443419467118859, 'rmse': 30784.53375512881}}\n",
      "{'test': {'r2': 0.910541521434074, 'rmse': 40150.430985514846},\n",
      " 'train': {'r2': 0.9125664995562424, 'rmse': 38584.022950504805}}\n",
      "{'test': {'r2': 0.92253745980863, 'rmse': 37361.58781241729},\n",
      " 'train': {'r2': 0.935270976455598, 'rmse': 33198.47252343848}}\n"
     ]
    },
    {
     "name": "stderr",
     "output_type": "stream",
     "text": [
      "C:\\Users\\danie\\anaconda3\\envs\\yingning\\lib\\site-packages\\sklearn\\neural_network\\_multilayer_perceptron.py:691: ConvergenceWarning: Stochastic Optimizer: Maximum iterations (5000) reached and the optimization hasn't converged yet.\n",
      "  warnings.warn(\n"
     ]
    },
    {
     "name": "stdout",
     "output_type": "stream",
     "text": [
      "{'test': {'r2': -3.3654226854031952, 'rmse': 279527.2454146242},\n",
      " 'train': {'r2': -3.386385366451287, 'rmse': 270494.19904238475}}\n"
     ]
    },
    {
     "name": "stderr",
     "output_type": "stream",
     "text": [
      "C:\\Users\\danie\\anaconda3\\envs\\yingning\\lib\\site-packages\\sklearn\\neural_network\\_multilayer_perceptron.py:691: ConvergenceWarning: Stochastic Optimizer: Maximum iterations (5000) reached and the optimization hasn't converged yet.\n",
      "  warnings.warn(\n"
     ]
    },
    {
     "name": "stdout",
     "output_type": "stream",
     "text": [
      "{'test': {'r2': -3.359973402297883, 'rmse': 279352.7263753435},\n",
      " 'train': {'r2': -3.3807229842817588, 'rmse': 270319.55226380756}}\n"
     ]
    },
    {
     "name": "stderr",
     "output_type": "stream",
     "text": [
      "C:\\Users\\danie\\anaconda3\\envs\\yingning\\lib\\site-packages\\sklearn\\neural_network\\_multilayer_perceptron.py:691: ConvergenceWarning: Stochastic Optimizer: Maximum iterations (5000) reached and the optimization hasn't converged yet.\n",
      "  warnings.warn(\n"
     ]
    },
    {
     "name": "stdout",
     "output_type": "stream",
     "text": [
      "{'test': {'r2': -3.365484430187781, 'rmse': 279529.2222321936},\n",
      " 'train': {'r2': -3.3864495248868565, 'rmse': 270496.1772567608}}\n"
     ]
    },
    {
     "name": "stderr",
     "output_type": "stream",
     "text": [
      "C:\\Users\\danie\\anaconda3\\envs\\yingning\\lib\\site-packages\\sklearn\\neural_network\\_multilayer_perceptron.py:691: ConvergenceWarning: Stochastic Optimizer: Maximum iterations (5000) reached and the optimization hasn't converged yet.\n",
      "  warnings.warn(\n"
     ]
    },
    {
     "name": "stdout",
     "output_type": "stream",
     "text": [
      "{'test': {'r2': -3.362083489397948, 'rmse': 279420.3170722821},\n",
      " 'train': {'r2': -3.3829155160448305, 'rmse': 270387.1906497846}}\n"
     ]
    },
    {
     "name": "stderr",
     "output_type": "stream",
     "text": [
      "C:\\Users\\danie\\anaconda3\\envs\\yingning\\lib\\site-packages\\sklearn\\neural_network\\_multilayer_perceptron.py:691: ConvergenceWarning: Stochastic Optimizer: Maximum iterations (5000) reached and the optimization hasn't converged yet.\n",
      "  warnings.warn(\n"
     ]
    },
    {
     "name": "stdout",
     "output_type": "stream",
     "text": [
      "{'test': {'r2': -3.365065192821426, 'rmse': 280462.5153675199},\n",
      " 'train': {'r2': -3.383398591252016, 'rmse': 273195.82373972714}}\n"
     ]
    },
    {
     "name": "stderr",
     "output_type": "stream",
     "text": [
      "C:\\Users\\danie\\anaconda3\\envs\\yingning\\lib\\site-packages\\sklearn\\neural_network\\_multilayer_perceptron.py:691: ConvergenceWarning: Stochastic Optimizer: Maximum iterations (5000) reached and the optimization hasn't converged yet.\n",
      "  warnings.warn(\n"
     ]
    },
    {
     "name": "stdout",
     "output_type": "stream",
     "text": [
      "{'test': {'r2': -3.359720759036641, 'rmse': 280290.768513616},\n",
      " 'train': {'r2': -3.3778854682121615, 'rmse': 273023.96667009004}}\n"
     ]
    },
    {
     "name": "stderr",
     "output_type": "stream",
     "text": [
      "C:\\Users\\danie\\anaconda3\\envs\\yingning\\lib\\site-packages\\sklearn\\neural_network\\_multilayer_perceptron.py:691: ConvergenceWarning: Stochastic Optimizer: Maximum iterations (5000) reached and the optimization hasn't converged yet.\n",
      "  warnings.warn(\n"
     ]
    },
    {
     "name": "stdout",
     "output_type": "stream",
     "text": [
      "{'test': {'r2': -3.3649308040831007, 'rmse': 280458.197987134},\n",
      " 'train': {'r2': -3.383259838703159, 'rmse': 273191.4998211886}}\n"
     ]
    },
    {
     "name": "stderr",
     "output_type": "stream",
     "text": [
      "C:\\Users\\danie\\anaconda3\\envs\\yingning\\lib\\site-packages\\sklearn\\neural_network\\_multilayer_perceptron.py:691: ConvergenceWarning: Stochastic Optimizer: Maximum iterations (5000) reached and the optimization hasn't converged yet.\n",
      "  warnings.warn(\n"
     ]
    },
    {
     "name": "stdout",
     "output_type": "stream",
     "text": [
      "{'test': {'r2': -3.361589390755566, 'rmse': 280350.83017111244},\n",
      " 'train': {'r2': -3.379813024371085, 'rmse': 273084.06544572057}}\n",
      "{'test': {'r2': 0.8863310922825557, 'rmse': 45105.74264633095},\n",
      " 'train': {'r2': 0.895495468943371, 'rmse': 41751.50396192187}}\n",
      "{'test': {'r2': 0.8422290977764192, 'rmse': 53140.35469457107},\n",
      " 'train': {'r2': 0.9493644434047642, 'rmse': 29062.459019708134}}\n",
      "{'test': {'r2': 0.8806408876265468, 'rmse': 46220.94117333073},\n",
      " 'train': {'r2': 0.8971896707738495, 'rmse': 41411.68851122681}}\n",
      "{'test': {'r2': 0.8633018611737067, 'rmse': 49464.34870523427},\n",
      " 'train': {'r2': 0.9439949904945613, 'rmse': 30564.54966999099}}\n",
      "{'test': {'r2': 0.8831474007469688, 'rmse': 45887.94891708826},\n",
      " 'train': {'r2': 0.8901796485313401, 'rmse': 43242.419829761086}}\n",
      "{'test': {'r2': 0.9199614689892871, 'rmse': 37977.73083935079},\n",
      " 'train': {'r2': 0.9880501597304793, 'rmse': 14264.272418456769}}\n",
      "{'test': {'r2': 0.8869904815400962, 'rmse': 45127.05265792738},\n",
      " 'train': {'r2': 0.8771329492207389, 'rmse': 45738.96060022082}}\n",
      "{'test': {'r2': 0.9143521079009937, 'rmse': 39285.99861809924},\n",
      " 'train': {'r2': 0.9477787011365146, 'rmse': 29818.95427387345}}\n"
     ]
    },
    {
     "name": "stderr",
     "output_type": "stream",
     "text": [
      "C:\\Users\\danie\\anaconda3\\envs\\yingning\\lib\\site-packages\\sklearn\\neural_network\\_multilayer_perceptron.py:691: ConvergenceWarning: Stochastic Optimizer: Maximum iterations (5000) reached and the optimization hasn't converged yet.\n",
      "  warnings.warn(\n"
     ]
    },
    {
     "name": "stdout",
     "output_type": "stream",
     "text": [
      "{'test': {'r2': -3.631262587790723, 'rmse': 287912.6170649116},\n",
      " 'train': {'r2': -3.662789313423575, 'rmse': 278886.47945295344}}\n"
     ]
    },
    {
     "name": "stderr",
     "output_type": "stream",
     "text": [
      "C:\\Users\\danie\\anaconda3\\envs\\yingning\\lib\\site-packages\\sklearn\\neural_network\\_multilayer_perceptron.py:691: ConvergenceWarning: Stochastic Optimizer: Maximum iterations (5000) reached and the optimization hasn't converged yet.\n",
      "  warnings.warn(\n"
     ]
    },
    {
     "name": "stdout",
     "output_type": "stream",
     "text": [
      "{'test': {'r2': -3.6309500501555254, 'rmse': 287902.9021065232},\n",
      " 'train': {'r2': -3.6624641620434506, 'rmse': 278876.7554553084}}\n"
     ]
    },
    {
     "name": "stderr",
     "output_type": "stream",
     "text": [
      "C:\\Users\\danie\\anaconda3\\envs\\yingning\\lib\\site-packages\\sklearn\\neural_network\\_multilayer_perceptron.py:691: ConvergenceWarning: Stochastic Optimizer: Maximum iterations (5000) reached and the optimization hasn't converged yet.\n",
      "  warnings.warn(\n"
     ]
    },
    {
     "name": "stdout",
     "output_type": "stream",
     "text": [
      "{'test': {'r2': -3.6313467606546608, 'rmse': 287915.23344856175},\n",
      " 'train': {'r2': -3.6628768835053576, 'rmse': 278889.09827138024}}\n"
     ]
    },
    {
     "name": "stderr",
     "output_type": "stream",
     "text": [
      "C:\\Users\\danie\\anaconda3\\envs\\yingning\\lib\\site-packages\\sklearn\\neural_network\\_multilayer_perceptron.py:691: ConvergenceWarning: Stochastic Optimizer: Maximum iterations (5000) reached and the optimization hasn't converged yet.\n",
      "  warnings.warn(\n"
     ]
    },
    {
     "name": "stdout",
     "output_type": "stream",
     "text": [
      "{'test': {'r2': -3.6310903620589823, 'rmse': 287907.2636195804},\n",
      " 'train': {'r2': -3.6626101367581896, 'rmse': 278881.12102625775}}\n"
     ]
    },
    {
     "name": "stderr",
     "output_type": "stream",
     "text": [
      "C:\\Users\\danie\\anaconda3\\envs\\yingning\\lib\\site-packages\\sklearn\\neural_network\\_multilayer_perceptron.py:691: ConvergenceWarning: Stochastic Optimizer: Maximum iterations (5000) reached and the optimization hasn't converged yet.\n",
      "  warnings.warn(\n"
     ]
    },
    {
     "name": "stdout",
     "output_type": "stream",
     "text": [
      "{'test': {'r2': -3.629954643931768, 'rmse': 288846.97646299953},\n",
      " 'train': {'r2': -3.65677981811909, 'rmse': 281586.2384326837}}\n"
     ]
    },
    {
     "name": "stderr",
     "output_type": "stream",
     "text": [
      "C:\\Users\\danie\\anaconda3\\envs\\yingning\\lib\\site-packages\\sklearn\\neural_network\\_multilayer_perceptron.py:691: ConvergenceWarning: Stochastic Optimizer: Maximum iterations (5000) reached and the optimization hasn't converged yet.\n",
      "  warnings.warn(\n"
     ]
    },
    {
     "name": "stdout",
     "output_type": "stream",
     "text": [
      "{'test': {'r2': -3.6297657801572907, 'rmse': 288841.0851216417},\n",
      " 'train': {'r2': -3.656584807520894, 'rmse': 281580.3424189313}}\n"
     ]
    },
    {
     "name": "stderr",
     "output_type": "stream",
     "text": [
      "C:\\Users\\danie\\anaconda3\\envs\\yingning\\lib\\site-packages\\sklearn\\neural_network\\_multilayer_perceptron.py:691: ConvergenceWarning: Stochastic Optimizer: Maximum iterations (5000) reached and the optimization hasn't converged yet.\n",
      "  warnings.warn(\n"
     ]
    },
    {
     "name": "stdout",
     "output_type": "stream",
     "text": [
      "{'test': {'r2': -3.6300117663606217, 'rmse': 288848.7582936265},\n",
      " 'train': {'r2': -3.656838799698492, 'rmse': 281588.0216765926}}\n"
     ]
    },
    {
     "name": "stderr",
     "output_type": "stream",
     "text": [
      "C:\\Users\\danie\\anaconda3\\envs\\yingning\\lib\\site-packages\\sklearn\\neural_network\\_multilayer_perceptron.py:691: ConvergenceWarning: Stochastic Optimizer: Maximum iterations (5000) reached and the optimization hasn't converged yet.\n",
      "  warnings.warn(\n"
     ]
    },
    {
     "name": "stdout",
     "output_type": "stream",
     "text": [
      "{'test': {'r2': -3.6298305026594004, 'rmse': 288843.10406312754},\n",
      " 'train': {'r2': -3.6566516364889425, 'rmse': 281582.3629615574}}\n",
      "{'test': {'r2': 0.8985370795116694, 'rmse': 42615.214004693946},\n",
      " 'train': {'r2': 0.8916236744890941, 'rmse': 42517.896935792334}}\n",
      "{'test': {'r2': 0.8558649292223502, 'rmse': 50792.06000863865},\n",
      " 'train': {'r2': 0.9476021653819932, 'rmse': 29563.86657888186}}\n",
      "{'test': {'r2': 0.8472444039647932, 'rmse': 52288.90640371213},\n",
      " 'train': {'r2': 0.875167911637116, 'rmse': 45631.80855391235}}\n",
      "{'test': {'r2': 0.8756361957850267, 'rmse': 47180.0061878812},\n",
      " 'train': {'r2': 0.9449853623148614, 'rmse': 30293.09817409175}}\n",
      "{'test': {'r2': 0.9174838044496889, 'rmse': 38561.06817948298},\n",
      " 'train': {'r2': 0.904641419102311, 'rmse': 40294.74984551479}}\n",
      "{'test': {'r2': 0.9169090794735537, 'rmse': 38695.12400374472},\n",
      " 'train': {'r2': 0.9608534451829138, 'rmse': 25817.569081953556}}\n",
      "{'test': {'r2': 0.8972809466523484, 'rmse': 43023.42312594676},\n",
      " 'train': {'r2': 0.8685059820997673, 'rmse': 47317.476179124926}}\n",
      "{'test': {'r2': 0.9182426532641405, 'rmse': 38383.34786743778},\n",
      " 'train': {'r2': 0.9464970539163345, 'rmse': 30182.65381947148}}\n"
     ]
    },
    {
     "name": "stderr",
     "output_type": "stream",
     "text": [
      "C:\\Users\\danie\\anaconda3\\envs\\yingning\\lib\\site-packages\\sklearn\\neural_network\\_multilayer_perceptron.py:691: ConvergenceWarning: Stochastic Optimizer: Maximum iterations (5000) reached and the optimization hasn't converged yet.\n",
      "  warnings.warn(\n"
     ]
    },
    {
     "name": "stdout",
     "output_type": "stream",
     "text": [
      "{'test': {'r2': -3.631302654026512, 'rmse': 287913.86246501945},\n",
      " 'train': {'r2': -3.662830996729169, 'rmse': 278887.7260119964}}\n"
     ]
    },
    {
     "name": "stderr",
     "output_type": "stream",
     "text": [
      "C:\\Users\\danie\\anaconda3\\envs\\yingning\\lib\\site-packages\\sklearn\\neural_network\\_multilayer_perceptron.py:691: ConvergenceWarning: Stochastic Optimizer: Maximum iterations (5000) reached and the optimization hasn't converged yet.\n",
      "  warnings.warn(\n"
     ]
    },
    {
     "name": "stdout",
     "output_type": "stream",
     "text": [
      "{'test': {'r2': -3.6309139871161538, 'rmse': 287901.7810974652},\n",
      " 'train': {'r2': -3.6624266435597264, 'rmse': 278875.6334033531}}\n"
     ]
    },
    {
     "name": "stderr",
     "output_type": "stream",
     "text": [
      "C:\\Users\\danie\\anaconda3\\envs\\yingning\\lib\\site-packages\\sklearn\\neural_network\\_multilayer_perceptron.py:691: ConvergenceWarning: Stochastic Optimizer: Maximum iterations (5000) reached and the optimization hasn't converged yet.\n",
      "  warnings.warn(\n"
     ]
    },
    {
     "name": "stdout",
     "output_type": "stream",
     "text": [
      "{'test': {'r2': -3.631234536688525, 'rmse': 287911.74513438274},\n",
      " 'train': {'r2': -3.66276013018563, 'rmse': 278885.6067110518}}\n"
     ]
    },
    {
     "name": "stderr",
     "output_type": "stream",
     "text": [
      "C:\\Users\\danie\\anaconda3\\envs\\yingning\\lib\\site-packages\\sklearn\\neural_network\\_multilayer_perceptron.py:691: ConvergenceWarning: Stochastic Optimizer: Maximum iterations (5000) reached and the optimization hasn't converged yet.\n",
      "  warnings.warn(\n"
     ]
    },
    {
     "name": "stdout",
     "output_type": "stream",
     "text": [
      "{'test': {'r2': -3.6309954307298637, 'rmse': 287904.3127422354},\n",
      " 'train': {'r2': -3.662511374111114, 'rmse': 278878.1674034179}}\n"
     ]
    },
    {
     "name": "stderr",
     "output_type": "stream",
     "text": [
      "C:\\Users\\danie\\anaconda3\\envs\\yingning\\lib\\site-packages\\sklearn\\neural_network\\_multilayer_perceptron.py:691: ConvergenceWarning: Stochastic Optimizer: Maximum iterations (5000) reached and the optimization hasn't converged yet.\n",
      "  warnings.warn(\n"
     ]
    },
    {
     "name": "stdout",
     "output_type": "stream",
     "text": [
      "{'test': {'r2': -3.6300205041223554, 'rmse': 288849.0308512962},\n",
      " 'train': {'r2': -3.6568478218471467, 'rmse': 281588.2944504495}}\n"
     ]
    },
    {
     "name": "stderr",
     "output_type": "stream",
     "text": [
      "C:\\Users\\danie\\anaconda3\\envs\\yingning\\lib\\site-packages\\sklearn\\neural_network\\_multilayer_perceptron.py:691: ConvergenceWarning: Stochastic Optimizer: Maximum iterations (5000) reached and the optimization hasn't converged yet.\n",
      "  warnings.warn(\n"
     ]
    },
    {
     "name": "stdout",
     "output_type": "stream",
     "text": [
      "{'test': {'r2': -3.6296991548087645, 'rmse': 288839.00680838426},\n",
      " 'train': {'r2': -3.656516013791717, 'rmse': 281578.26245752577}}\n"
     ]
    },
    {
     "name": "stderr",
     "output_type": "stream",
     "text": [
      "C:\\Users\\danie\\anaconda3\\envs\\yingning\\lib\\site-packages\\sklearn\\neural_network\\_multilayer_perceptron.py:691: ConvergenceWarning: Stochastic Optimizer: Maximum iterations (5000) reached and the optimization hasn't converged yet.\n",
      "  warnings.warn(\n"
     ]
    },
    {
     "name": "stdout",
     "output_type": "stream",
     "text": [
      "{'test': {'r2': -3.629955481252461, 'rmse': 288847.0025817802},\n",
      " 'train': {'r2': -3.6567806826917906, 'rmse': 281586.26457218063}}\n"
     ]
    },
    {
     "name": "stderr",
     "output_type": "stream",
     "text": [
      "C:\\Users\\danie\\anaconda3\\envs\\yingning\\lib\\site-packages\\sklearn\\neural_network\\_multilayer_perceptron.py:691: ConvergenceWarning: Stochastic Optimizer: Maximum iterations (5000) reached and the optimization hasn't converged yet.\n",
      "  warnings.warn(\n"
     ]
    },
    {
     "name": "stdout",
     "output_type": "stream",
     "text": [
      "{'test': {'r2': -3.6297984568951467, 'rmse': 288842.10443538404},\n",
      " 'train': {'r2': -3.6566185477579642, 'rmse': 281581.3625410477}}\n",
      "{'test': {'r2': 0.8996367229886507, 'rmse': 42383.65549732888},\n",
      " 'train': {'r2': 0.9164935406242845, 'rmse': 37321.973388546925}}\n",
      "{'test': {'r2': 0.8450371708733475, 'rmse': 52665.324277839616},\n",
      " 'train': {'r2': 0.9456193379818364, 'rmse': 30118.04715346966}}\n",
      "{'test': {'r2': 0.8857206198496193, 'rmse': 45226.70334200442},\n",
      " 'train': {'r2': 0.8927297842746628, 'rmse': 42300.367526640286}}\n",
      "{'test': {'r2': 0.8635346396004161, 'rmse': 49422.21521555446},\n",
      " 'train': {'r2': 0.9444661587170665, 'rmse': 30435.70886071343}}\n",
      "{'test': {'r2': 0.9030807970210682, 'rmse': 41791.15504857859},\n",
      " 'train': {'r2': 0.8880993512346903, 'rmse': 43650.06316449172}}\n",
      "{'test': {'r2': 0.8871843166488246, 'rmse': 45088.33485201468},\n",
      " 'train': {'r2': 0.9892509989489546, 'rmse': 13528.59285904376}}\n",
      "{'test': {'r2': 0.920836532926877, 'rmse': 37769.55437451116},\n",
      " 'train': {'r2': 0.9101771283977971, 'rmse': 39107.679006236125}}\n",
      "{'test': {'r2': 0.915414736709199, 'rmse': 39041.528329014414},\n",
      " 'train': {'r2': 0.9440019365305338, 'rmse': 30878.42059942453}}\n"
     ]
    },
    {
     "name": "stderr",
     "output_type": "stream",
     "text": [
      "C:\\Users\\danie\\anaconda3\\envs\\yingning\\lib\\site-packages\\sklearn\\neural_network\\_multilayer_perceptron.py:691: ConvergenceWarning: Stochastic Optimizer: Maximum iterations (5000) reached and the optimization hasn't converged yet.\n",
      "  warnings.warn(\n"
     ]
    },
    {
     "name": "stdout",
     "output_type": "stream",
     "text": [
      "{'test': {'r2': -3.6313069487885734, 'rmse': 287913.9959610722},\n",
      " 'train': {'r2': -3.6628354648278014, 'rmse': 278887.85963227664}}\n"
     ]
    },
    {
     "name": "stderr",
     "output_type": "stream",
     "text": [
      "C:\\Users\\danie\\anaconda3\\envs\\yingning\\lib\\site-packages\\sklearn\\neural_network\\_multilayer_perceptron.py:691: ConvergenceWarning: Stochastic Optimizer: Maximum iterations (5000) reached and the optimization hasn't converged yet.\n",
      "  warnings.warn(\n"
     ]
    },
    {
     "name": "stdout",
     "output_type": "stream",
     "text": [
      "{'test': {'r2': -3.631012764346539, 'rmse': 287904.8515484598},\n",
      " 'train': {'r2': -3.662529407287315, 'rmse': 278878.706710871}}\n"
     ]
    },
    {
     "name": "stderr",
     "output_type": "stream",
     "text": [
      "C:\\Users\\danie\\anaconda3\\envs\\yingning\\lib\\site-packages\\sklearn\\neural_network\\_multilayer_perceptron.py:691: ConvergenceWarning: Stochastic Optimizer: Maximum iterations (5000) reached and the optimization hasn't converged yet.\n",
      "  warnings.warn(\n"
     ]
    },
    {
     "name": "stdout",
     "output_type": "stream",
     "text": [
      "{'test': {'r2': -3.631307168882566, 'rmse': 287914.0028023527},\n",
      " 'train': {'r2': -3.662835693804869, 'rmse': 278887.86647992587}}\n"
     ]
    },
    {
     "name": "stderr",
     "output_type": "stream",
     "text": [
      "C:\\Users\\danie\\anaconda3\\envs\\yingning\\lib\\site-packages\\sklearn\\neural_network\\_multilayer_perceptron.py:691: ConvergenceWarning: Stochastic Optimizer: Maximum iterations (5000) reached and the optimization hasn't converged yet.\n",
      "  warnings.warn(\n"
     ]
    },
    {
     "name": "stdout",
     "output_type": "stream",
     "text": [
      "{'test': {'r2': -3.6310991731106173, 'rmse': 287907.5375037374},\n",
      " 'train': {'r2': -3.6626193034152754, 'rmse': 278881.3951652349}}\n"
     ]
    },
    {
     "name": "stderr",
     "output_type": "stream",
     "text": [
      "C:\\Users\\danie\\anaconda3\\envs\\yingning\\lib\\site-packages\\sklearn\\neural_network\\_multilayer_perceptron.py:691: ConvergenceWarning: Stochastic Optimizer: Maximum iterations (5000) reached and the optimization hasn't converged yet.\n",
      "  warnings.warn(\n"
     ]
    },
    {
     "name": "stdout",
     "output_type": "stream",
     "text": [
      "{'test': {'r2': -3.6299925970022615, 'rmse': 288848.16034146457},\n",
      " 'train': {'r2': -3.6568190064381447, 'rmse': 281587.4232501508}}\n"
     ]
    },
    {
     "name": "stderr",
     "output_type": "stream",
     "text": [
      "C:\\Users\\danie\\anaconda3\\envs\\yingning\\lib\\site-packages\\sklearn\\neural_network\\_multilayer_perceptron.py:691: ConvergenceWarning: Stochastic Optimizer: Maximum iterations (5000) reached and the optimization hasn't converged yet.\n",
      "  warnings.warn(\n"
     ]
    },
    {
     "name": "stdout",
     "output_type": "stream",
     "text": [
      "{'test': {'r2': -3.629728592584094, 'rmse': 288839.92509313545},\n",
      " 'train': {'r2': -3.656546409641761, 'rmse': 281579.1814704368}}\n"
     ]
    },
    {
     "name": "stderr",
     "output_type": "stream",
     "text": [
      "C:\\Users\\danie\\anaconda3\\envs\\yingning\\lib\\site-packages\\sklearn\\neural_network\\_multilayer_perceptron.py:691: ConvergenceWarning: Stochastic Optimizer: Maximum iterations (5000) reached and the optimization hasn't converged yet.\n",
      "  warnings.warn(\n"
     ]
    },
    {
     "name": "stdout",
     "output_type": "stream",
     "text": [
      "{'test': {'r2': -3.6299975425027284, 'rmse': 288848.3146071897},\n",
      " 'train': {'r2': -3.656824112898798, 'rmse': 281587.57763823215}}\n"
     ]
    },
    {
     "name": "stderr",
     "output_type": "stream",
     "text": [
      "C:\\Users\\danie\\anaconda3\\envs\\yingning\\lib\\site-packages\\sklearn\\neural_network\\_multilayer_perceptron.py:691: ConvergenceWarning: Stochastic Optimizer: Maximum iterations (5000) reached and the optimization hasn't converged yet.\n",
      "  warnings.warn(\n"
     ]
    },
    {
     "name": "stdout",
     "output_type": "stream",
     "text": [
      "{'test': {'r2': -3.629820147859225, 'rmse': 288842.78105839813},\n",
      " 'train': {'r2': -3.656640944679075, 'rmse': 281582.0397006556}}\n",
      "{'test': {'r2': 0.8780248793849978, 'rmse': 46724.71084491145},\n",
      " 'train': {'r2': 0.8830706404676401, 'rmse': 44163.791328722786}}\n",
      "{'test': {'r2': 0.8505818916186653, 'rmse': 51714.533488055415},\n",
      " 'train': {'r2': 0.9492700464809102, 'rmse': 29089.536132240133}}\n",
      "{'test': {'r2': 0.8791989363650377, 'rmse': 46499.295539730214},\n",
      " 'train': {'r2': 0.9011911084499887, 'rmse': 40597.80726239677}}\n",
      "{'test': {'r2': 0.8620551394899303, 'rmse': 49689.40043824025},\n",
      " 'train': {'r2': 0.9478673231224315, 'rmse': 29488.968153584803}}\n",
      "{'test': {'r2': 0.908530518416566, 'rmse': 40599.20845521817},\n",
      " 'train': {'r2': 0.8916537979917362, 'rmse': 42951.211705180474}}\n",
      "{'test': {'r2': 0.9112674400536774, 'rmse': 39987.197081626284},\n",
      " 'train': {'r2': 0.9481574412724934, 'rmse': 29710.625041474137}}\n",
      "{'test': {'r2': 0.8609415613843471, 'rmse': 50058.5345877529},\n",
      " 'train': {'r2': 0.8791483640092651, 'rmse': 45362.27647739505}}\n",
      "{'test': {'r2': 0.9189905961733027, 'rmse': 38207.3727723365},\n",
      " 'train': {'r2': 0.9431739702602419, 'rmse': 31105.86131815506}}\n"
     ]
    },
    {
     "name": "stderr",
     "output_type": "stream",
     "text": [
      "C:\\Users\\danie\\anaconda3\\envs\\yingning\\lib\\site-packages\\sklearn\\neural_network\\_multilayer_perceptron.py:691: ConvergenceWarning: Stochastic Optimizer: Maximum iterations (5000) reached and the optimization hasn't converged yet.\n",
      "  warnings.warn(\n"
     ]
    },
    {
     "name": "stdout",
     "output_type": "stream",
     "text": [
      "{'test': {'r2': -3.631206540805568, 'rmse': 287910.87491763645},\n",
      " 'train': {'r2': -3.6627310043990846, 'rmse': 278884.735684545}}\n"
     ]
    },
    {
     "name": "stderr",
     "output_type": "stream",
     "text": [
      "C:\\Users\\danie\\anaconda3\\envs\\yingning\\lib\\site-packages\\sklearn\\neural_network\\_multilayer_perceptron.py:691: ConvergenceWarning: Stochastic Optimizer: Maximum iterations (5000) reached and the optimization hasn't converged yet.\n",
      "  warnings.warn(\n"
     ]
    },
    {
     "name": "stdout",
     "output_type": "stream",
     "text": [
      "{'test': {'r2': -3.6309808648299438, 'rmse': 287903.85996822966},\n",
      " 'train': {'r2': -3.66249622034956, 'rmse': 278877.7142080961}}\n"
     ]
    },
    {
     "name": "stderr",
     "output_type": "stream",
     "text": [
      "C:\\Users\\danie\\anaconda3\\envs\\yingning\\lib\\site-packages\\sklearn\\neural_network\\_multilayer_perceptron.py:691: ConvergenceWarning: Stochastic Optimizer: Maximum iterations (5000) reached and the optimization hasn't converged yet.\n",
      "  warnings.warn(\n"
     ]
    },
    {
     "name": "stdout",
     "output_type": "stream",
     "text": [
      "{'test': {'r2': -3.6313125526230614, 'rmse': 287914.17014752864},\n",
      " 'train': {'r2': -3.662841294833325, 'rmse': 278888.03398083197}}\n"
     ]
    },
    {
     "name": "stderr",
     "output_type": "stream",
     "text": [
      "C:\\Users\\danie\\anaconda3\\envs\\yingning\\lib\\site-packages\\sklearn\\neural_network\\_multilayer_perceptron.py:691: ConvergenceWarning: Stochastic Optimizer: Maximum iterations (5000) reached and the optimization hasn't converged yet.\n",
      "  warnings.warn(\n"
     ]
    },
    {
     "name": "stdout",
     "output_type": "stream",
     "text": [
      "{'test': {'r2': -3.6310541299405665, 'rmse': 287906.1373718012},\n",
      " 'train': {'r2': -3.662572442348626, 'rmse': 278879.9937305871}}\n"
     ]
    },
    {
     "name": "stderr",
     "output_type": "stream",
     "text": [
      "C:\\Users\\danie\\anaconda3\\envs\\yingning\\lib\\site-packages\\sklearn\\neural_network\\_multilayer_perceptron.py:691: ConvergenceWarning: Stochastic Optimizer: Maximum iterations (5000) reached and the optimization hasn't converged yet.\n",
      "  warnings.warn(\n"
     ]
    },
    {
     "name": "stdout",
     "output_type": "stream",
     "text": [
      "{'test': {'r2': -3.6300055431151543, 'rmse': 288848.564171298},\n",
      " 'train': {'r2': -3.6568323739059245, 'rmse': 281587.8274002907}}\n"
     ]
    },
    {
     "name": "stderr",
     "output_type": "stream",
     "text": [
      "C:\\Users\\danie\\anaconda3\\envs\\yingning\\lib\\site-packages\\sklearn\\neural_network\\_multilayer_perceptron.py:691: ConvergenceWarning: Stochastic Optimizer: Maximum iterations (5000) reached and the optimization hasn't converged yet.\n",
      "  warnings.warn(\n"
     ]
    },
    {
     "name": "stdout",
     "output_type": "stream",
     "text": [
      "{'test': {'r2': -3.629706978609592, 'rmse': 288839.25086505304},\n",
      " 'train': {'r2': -3.6565240922225355, 'rmse': 281578.50670768187}}\n"
     ]
    },
    {
     "name": "stderr",
     "output_type": "stream",
     "text": [
      "C:\\Users\\danie\\anaconda3\\envs\\yingning\\lib\\site-packages\\sklearn\\neural_network\\_multilayer_perceptron.py:691: ConvergenceWarning: Stochastic Optimizer: Maximum iterations (5000) reached and the optimization hasn't converged yet.\n",
      "  warnings.warn(\n"
     ]
    },
    {
     "name": "stdout",
     "output_type": "stream",
     "text": [
      "{'test': {'r2': -3.629996868185451, 'rmse': 288848.29357311624},\n",
      " 'train': {'r2': -3.656823416634726, 'rmse': 281587.5565874778}}\n"
     ]
    },
    {
     "name": "stderr",
     "output_type": "stream",
     "text": [
      "C:\\Users\\danie\\anaconda3\\envs\\yingning\\lib\\site-packages\\sklearn\\neural_network\\_multilayer_perceptron.py:691: ConvergenceWarning: Stochastic Optimizer: Maximum iterations (5000) reached and the optimization hasn't converged yet.\n",
      "  warnings.warn(\n"
     ]
    },
    {
     "name": "stdout",
     "output_type": "stream",
     "text": [
      "{'test': {'r2': -3.6297623581010754, 'rmse': 288840.9783742748},\n",
      " 'train': {'r2': -3.6565812740900796, 'rmse': 281580.23558689794}}\n",
      "{'test': {'r2': 0.8741841734716516, 'rmse': 47454.63439512139},\n",
      " 'train': {'r2': 0.8888120921816909, 'rmse': 43065.88168518558}}\n",
      "{'test': {'r2': 0.8487705599182992, 'rmse': 52027.045792535384},\n",
      " 'train': {'r2': 0.948869922172763, 'rmse': 29204.03031909873}}\n",
      "{'test': {'r2': 0.8411207155037143, 'rmse': 53326.69051870205},\n",
      " 'train': {'r2': 0.8621666392902093, 'rmse': 47949.24094011337}}\n",
      "{'test': {'r2': 0.8691583945925612, 'rmse': 48393.15382890759},\n",
      " 'train': {'r2': 0.9481460701553525, 'rmse': 29410.025539027054}}\n",
      "{'test': {'r2': 0.8672950519641092, 'rmse': 48901.59400724853},\n",
      " 'train': {'r2': 0.9025885469568917, 'rmse': 40726.17143379902}}\n",
      "{'test': {'r2': 0.9074076590694795, 'rmse': 40847.64185329025},\n",
      " 'train': {'r2': 0.9467686035934225, 'rmse': 30105.96163133467}}\n",
      "{'test': {'r2': 0.7863048921974196, 'rmse': 62054.99536182505},\n",
      " 'train': {'r2': 0.8337079285988369, 'rmse': 53211.35838997795}}\n",
      "{'test': {'r2': 0.9132545587241249, 'rmse': 39536.915807921345},\n",
      " 'train': {'r2': 0.9488328734549132, 'rmse': 29516.447664557116}}\n"
     ]
    },
    {
     "name": "stderr",
     "output_type": "stream",
     "text": [
      "C:\\Users\\danie\\anaconda3\\envs\\yingning\\lib\\site-packages\\sklearn\\neural_network\\_multilayer_perceptron.py:691: ConvergenceWarning: Stochastic Optimizer: Maximum iterations (5000) reached and the optimization hasn't converged yet.\n",
      "  warnings.warn(\n"
     ]
    },
    {
     "name": "stdout",
     "output_type": "stream",
     "text": [
      "{'test': {'r2': -3.365016881890292, 'rmse': 279514.25288416556},\n",
      " 'train': {'r2': -3.3859635585885632, 'rmse': 270481.19296636275}}\n"
     ]
    },
    {
     "name": "stderr",
     "output_type": "stream",
     "text": [
      "C:\\Users\\danie\\anaconda3\\envs\\yingning\\lib\\site-packages\\sklearn\\neural_network\\_multilayer_perceptron.py:691: ConvergenceWarning: Stochastic Optimizer: Maximum iterations (5000) reached and the optimization hasn't converged yet.\n",
      "  warnings.warn(\n"
     ]
    },
    {
     "name": "stdout",
     "output_type": "stream",
     "text": [
      "{'test': {'r2': -3.3645727671358356, 'rmse': 279500.033058121},\n",
      " 'train': {'r2': -3.3855020830547167, 'rmse': 270466.96305602306}}\n"
     ]
    },
    {
     "name": "stderr",
     "output_type": "stream",
     "text": [
      "C:\\Users\\danie\\anaconda3\\envs\\yingning\\lib\\site-packages\\sklearn\\neural_network\\_multilayer_perceptron.py:691: ConvergenceWarning: Stochastic Optimizer: Maximum iterations (5000) reached and the optimization hasn't converged yet.\n",
      "  warnings.warn(\n"
     ]
    },
    {
     "name": "stdout",
     "output_type": "stream",
     "text": [
      "{'test': {'r2': -3.364886996570827, 'rmse': 279510.09424410894},\n",
      " 'train': {'r2': -3.385828595851655, 'rmse': 270477.0313765058}}\n"
     ]
    },
    {
     "name": "stderr",
     "output_type": "stream",
     "text": [
      "C:\\Users\\danie\\anaconda3\\envs\\yingning\\lib\\site-packages\\sklearn\\neural_network\\_multilayer_perceptron.py:691: ConvergenceWarning: Stochastic Optimizer: Maximum iterations (5000) reached and the optimization hasn't converged yet.\n",
      "  warnings.warn(\n"
     ]
    },
    {
     "name": "stdout",
     "output_type": "stream",
     "text": [
      "{'test': {'r2': -3.3646831347213144, 'rmse': 279503.56691474625},\n",
      " 'train': {'r2': -3.3856167648994395, 'rmse': 270470.499418211}}\n"
     ]
    },
    {
     "name": "stderr",
     "output_type": "stream",
     "text": [
      "C:\\Users\\danie\\anaconda3\\envs\\yingning\\lib\\site-packages\\sklearn\\neural_network\\_multilayer_perceptron.py:691: ConvergenceWarning: Stochastic Optimizer: Maximum iterations (5000) reached and the optimization hasn't converged yet.\n",
      "  warnings.warn(\n"
     ]
    },
    {
     "name": "stdout",
     "output_type": "stream",
     "text": [
      "{'test': {'r2': -3.364530370313357, 'rmse': 280445.33323459653},\n",
      " 'train': {'r2': -3.3828467713695085, 'rmse': 273178.62707952183}}\n"
     ]
    },
    {
     "name": "stderr",
     "output_type": "stream",
     "text": [
      "C:\\Users\\danie\\anaconda3\\envs\\yingning\\lib\\site-packages\\sklearn\\neural_network\\_multilayer_perceptron.py:691: ConvergenceWarning: Stochastic Optimizer: Maximum iterations (5000) reached and the optimization hasn't converged yet.\n",
      "  warnings.warn(\n"
     ]
    },
    {
     "name": "stdout",
     "output_type": "stream",
     "text": [
      "{'test': {'r2': -3.364091997584654, 'rmse': 280431.2489388403},\n",
      " 'train': {'r2': -3.3823945688452035, 'rmse': 273164.5340416253}}\n"
     ]
    },
    {
     "name": "stderr",
     "output_type": "stream",
     "text": [
      "C:\\Users\\danie\\anaconda3\\envs\\yingning\\lib\\site-packages\\sklearn\\neural_network\\_multilayer_perceptron.py:691: ConvergenceWarning: Stochastic Optimizer: Maximum iterations (5000) reached and the optimization hasn't converged yet.\n",
      "  warnings.warn(\n"
     ]
    },
    {
     "name": "stdout",
     "output_type": "stream",
     "text": [
      "{'test': {'r2': -3.3646400300208077, 'rmse': 280448.85633529915},\n",
      " 'train': {'r2': -3.382959890743998, 'rmse': 273182.1523677241}}\n"
     ]
    },
    {
     "name": "stderr",
     "output_type": "stream",
     "text": [
      "C:\\Users\\danie\\anaconda3\\envs\\yingning\\lib\\site-packages\\sklearn\\neural_network\\_multilayer_perceptron.py:691: ConvergenceWarning: Stochastic Optimizer: Maximum iterations (5000) reached and the optimization hasn't converged yet.\n",
      "  warnings.warn(\n"
     ]
    },
    {
     "name": "stdout",
     "output_type": "stream",
     "text": [
      "{'test': {'r2': -3.364364483887049, 'rmse': 280440.003621532},\n",
      " 'train': {'r2': -3.3826756514635274, 'rmse': 273173.2941578262}}\n",
      "{'test': {'r2': 0.8695555868245806, 'rmse': 48319.6451220881},\n",
      " 'train': {'r2': 0.8687096803084499, 'rmse': 46797.31290577407}}\n",
      "{'test': {'r2': 0.8440509039116058, 'rmse': 52832.6537102879},\n",
      " 'train': {'r2': 0.9479594649424639, 'rmse': 29462.89651258345}}\n",
      "{'test': {'r2': 0.8883096060841232, 'rmse': 44711.465575930575},\n",
      " 'train': {'r2': 0.9157864333765123, 'rmse': 37479.655838499006}}\n",
      "{'test': {'r2': 0.8660257642204892, 'rmse': 48969.0454600485},\n",
      " 'train': {'r2': 0.9456725188684114, 'rmse': 30103.316767948778}}\n",
      "{'test': {'r2': 0.9249953069487331, 'rmse': 36764.07781193626},\n",
      " 'train': {'r2': 0.9211128937630007, 'rmse': 36649.79814081503}}\n",
      "{'test': {'r2': 0.9117884793598132, 'rmse': 39869.62142900676},\n",
      " 'train': {'r2': 0.9489673729250162, 'rmse': 29477.628219792005}}\n",
      "{'test': {'r2': 0.9070458490298015, 'rmse': 40927.37132859928},\n",
      " 'train': {'r2': 0.9065534169212004, 'rmse': 39888.73716068081}}\n",
      "{'test': {'r2': 0.9090413846964165, 'rmse': 40485.67437148711},\n",
      " 'train': {'r2': 0.9461923936984892, 'rmse': 30268.465922809988}}\n"
     ]
    },
    {
     "name": "stderr",
     "output_type": "stream",
     "text": [
      "C:\\Users\\danie\\anaconda3\\envs\\yingning\\lib\\site-packages\\sklearn\\neural_network\\_multilayer_perceptron.py:691: ConvergenceWarning: Stochastic Optimizer: Maximum iterations (5000) reached and the optimization hasn't converged yet.\n",
      "  warnings.warn(\n"
     ]
    },
    {
     "name": "stdout",
     "output_type": "stream",
     "text": [
      "{'test': {'r2': -3.3649733228636274, 'rmse': 279512.85822756984},\n",
      " 'train': {'r2': -3.3859182967628882, 'rmse': 270479.79732045444}}\n"
     ]
    },
    {
     "name": "stderr",
     "output_type": "stream",
     "text": [
      "C:\\Users\\danie\\anaconda3\\envs\\yingning\\lib\\site-packages\\sklearn\\neural_network\\_multilayer_perceptron.py:691: ConvergenceWarning: Stochastic Optimizer: Maximum iterations (5000) reached and the optimization hasn't converged yet.\n",
      "  warnings.warn(\n"
     ]
    },
    {
     "name": "stdout",
     "output_type": "stream",
     "text": [
      "{'test': {'r2': -3.3646062346994343, 'rmse': 279501.10465982166},\n",
      " 'train': {'r2': -3.385536858855632, 'rmse': 270468.0354174582}}\n"
     ]
    },
    {
     "name": "stderr",
     "output_type": "stream",
     "text": [
      "C:\\Users\\danie\\anaconda3\\envs\\yingning\\lib\\site-packages\\sklearn\\neural_network\\_multilayer_perceptron.py:691: ConvergenceWarning: Stochastic Optimizer: Maximum iterations (5000) reached and the optimization hasn't converged yet.\n",
      "  warnings.warn(\n"
     ]
    },
    {
     "name": "stdout",
     "output_type": "stream",
     "text": [
      "{'test': {'r2': -3.3650059026500614, 'rmse': 279513.90135562135},\n",
      " 'train': {'r2': -3.385952150149601, 'rmse': 270480.84118845285}}\n"
     ]
    },
    {
     "name": "stderr",
     "output_type": "stream",
     "text": [
      "C:\\Users\\danie\\anaconda3\\envs\\yingning\\lib\\site-packages\\sklearn\\neural_network\\_multilayer_perceptron.py:691: ConvergenceWarning: Stochastic Optimizer: Maximum iterations (5000) reached and the optimization hasn't converged yet.\n",
      "  warnings.warn(\n"
     ]
    },
    {
     "name": "stdout",
     "output_type": "stream",
     "text": [
      "{'test': {'r2': -3.3646398022000916, 'rmse': 279502.17945729144},\n",
      " 'train': {'r2': -3.3855717385065107, 'rmse': 270469.1109769844}}\n"
     ]
    },
    {
     "name": "stderr",
     "output_type": "stream",
     "text": [
      "C:\\Users\\danie\\anaconda3\\envs\\yingning\\lib\\site-packages\\sklearn\\neural_network\\_multilayer_perceptron.py:691: ConvergenceWarning: Stochastic Optimizer: Maximum iterations (5000) reached and the optimization hasn't converged yet.\n",
      "  warnings.warn(\n"
     ]
    },
    {
     "name": "stdout",
     "output_type": "stream",
     "text": [
      "{'test': {'r2': -3.364542560642527, 'rmse': 280445.724882523},\n",
      " 'train': {'r2': -3.382859346290423, 'rmse': 273179.01897060836}}\n"
     ]
    },
    {
     "name": "stderr",
     "output_type": "stream",
     "text": [
      "C:\\Users\\danie\\anaconda3\\envs\\yingning\\lib\\site-packages\\sklearn\\neural_network\\_multilayer_perceptron.py:691: ConvergenceWarning: Stochastic Optimizer: Maximum iterations (5000) reached and the optimization hasn't converged yet.\n",
      "  warnings.warn(\n"
     ]
    },
    {
     "name": "stdout",
     "output_type": "stream",
     "text": [
      "{'test': {'r2': -3.3642220411565047, 'rmse': 280435.42712866986},\n",
      " 'train': {'r2': -3.3825287149557246, 'rmse': 273168.7148243894}}\n"
     ]
    },
    {
     "name": "stderr",
     "output_type": "stream",
     "text": [
      "C:\\Users\\danie\\anaconda3\\envs\\yingning\\lib\\site-packages\\sklearn\\neural_network\\_multilayer_perceptron.py:691: ConvergenceWarning: Stochastic Optimizer: Maximum iterations (5000) reached and the optimization hasn't converged yet.\n",
      "  warnings.warn(\n"
     ]
    },
    {
     "name": "stdout",
     "output_type": "stream",
     "text": [
      "{'test': {'r2': -3.364677948328577, 'rmse': 280450.0745483567},\n",
      " 'train': {'r2': -3.3829990053520618, 'rmse': 273183.3713372386}}\n"
     ]
    },
    {
     "name": "stderr",
     "output_type": "stream",
     "text": [
      "C:\\Users\\danie\\anaconda3\\envs\\yingning\\lib\\site-packages\\sklearn\\neural_network\\_multilayer_perceptron.py:691: ConvergenceWarning: Stochastic Optimizer: Maximum iterations (5000) reached and the optimization hasn't converged yet.\n",
      "  warnings.warn(\n"
     ]
    },
    {
     "name": "stdout",
     "output_type": "stream",
     "text": [
      "{'test': {'r2': -3.364359987364554, 'rmse': 280439.85915546893},\n",
      " 'train': {'r2': -3.3826710130836393, 'rmse': 273173.14960208564}}\n",
      "{'test': {'r2': 0.8679161260002215, 'rmse': 48622.344204569956},\n",
      " 'train': {'r2': 0.8883139388759846, 'rmse': 43162.24754045192}}\n",
      "{'test': {'r2': 0.8545757364447344, 'rmse': 51018.705013376864},\n",
      " 'train': {'r2': 0.9542961281077801, 'rmse': 27610.93163321388}}\n",
      "{'test': {'r2': 0.8866684310493715, 'rmse': 45038.76205385348},\n",
      " 'train': {'r2': 0.8998794693841159, 'rmse': 40866.376804480846}}\n",
      "{'test': {'r2': 0.8679984438093336, 'rmse': 48607.19054298772},\n",
      " 'train': {'r2': 0.9449298562373649, 'rmse': 30308.376173017055}}\n",
      "{'test': {'r2': 0.8735333498247404, 'rmse': 47738.356699387434},\n",
      " 'train': {'r2': 0.8869551662104177, 'rmse': 43872.6567280235}}\n",
      "{'test': {'r2': 0.9054827741320599, 'rmse': 41270.04484231633},\n",
      " 'train': {'r2': 0.9483980889588934, 'rmse': 29641.588039703165}}\n",
      "{'test': {'r2': 0.8877019226408163, 'rmse': 44984.781772105016},\n",
      " 'train': {'r2': 0.8769728139164091, 'rmse': 45768.757186706476}}\n",
      "{'test': {'r2': 0.9141375021667684, 'rmse': 39335.18678632128},\n",
      " 'train': {'r2': 0.947531270697647, 'rmse': 29889.5135873875}}\n"
     ]
    },
    {
     "name": "stderr",
     "output_type": "stream",
     "text": [
      "C:\\Users\\danie\\anaconda3\\envs\\yingning\\lib\\site-packages\\sklearn\\neural_network\\_multilayer_perceptron.py:691: ConvergenceWarning: Stochastic Optimizer: Maximum iterations (5000) reached and the optimization hasn't converged yet.\n",
      "  warnings.warn(\n"
     ]
    },
    {
     "name": "stdout",
     "output_type": "stream",
     "text": [
      "{'test': {'r2': -3.3649336156211413, 'rmse': 279511.5868898938},\n",
      " 'train': {'r2': -3.3858770373027527, 'rmse': 270478.5250809933}}\n"
     ]
    },
    {
     "name": "stderr",
     "output_type": "stream",
     "text": [
      "C:\\Users\\danie\\anaconda3\\envs\\yingning\\lib\\site-packages\\sklearn\\neural_network\\_multilayer_perceptron.py:691: ConvergenceWarning: Stochastic Optimizer: Maximum iterations (5000) reached and the optimization hasn't converged yet.\n",
      "  warnings.warn(\n"
     ]
    },
    {
     "name": "stdout",
     "output_type": "stream",
     "text": [
      "{'test': {'r2': -3.3644817093864328, 'rmse': 279497.117448957},\n",
      " 'train': {'r2': -3.3854074659116247, 'rmse': 270464.04537990614}}\n"
     ]
    },
    {
     "name": "stderr",
     "output_type": "stream",
     "text": [
      "C:\\Users\\danie\\anaconda3\\envs\\yingning\\lib\\site-packages\\sklearn\\neural_network\\_multilayer_perceptron.py:691: ConvergenceWarning: Stochastic Optimizer: Maximum iterations (5000) reached and the optimization hasn't converged yet.\n",
      "  warnings.warn(\n"
     ]
    },
    {
     "name": "stdout",
     "output_type": "stream",
     "text": [
      "{'test': {'r2': -3.3649907197190174, 'rmse': 279513.41523440235},\n",
      " 'train': {'r2': -3.385936373690824, 'rmse': 270480.35472239804}}\n"
     ]
    },
    {
     "name": "stderr",
     "output_type": "stream",
     "text": [
      "C:\\Users\\danie\\anaconda3\\envs\\yingning\\lib\\site-packages\\sklearn\\neural_network\\_multilayer_perceptron.py:691: ConvergenceWarning: Stochastic Optimizer: Maximum iterations (5000) reached and the optimization hasn't converged yet.\n",
      "  warnings.warn(\n"
     ]
    },
    {
     "name": "stdout",
     "output_type": "stream",
     "text": [
      "{'test': {'r2': -3.364708495715602, 'rmse': 279504.3789413984},\n",
      " 'train': {'r2': -3.3856431172605967, 'rmse': 270471.31202062906}}\n"
     ]
    },
    {
     "name": "stderr",
     "output_type": "stream",
     "text": [
      "C:\\Users\\danie\\anaconda3\\envs\\yingning\\lib\\site-packages\\sklearn\\neural_network\\_multilayer_perceptron.py:691: ConvergenceWarning: Stochastic Optimizer: Maximum iterations (5000) reached and the optimization hasn't converged yet.\n",
      "  warnings.warn(\n"
     ]
    },
    {
     "name": "stdout",
     "output_type": "stream",
     "text": [
      "{'test': {'r2': -3.364615086967148, 'rmse': 280448.0549793089},\n",
      " 'train': {'r2': -3.3829341607547923, 'rmse': 273181.3505141454}}\n"
     ]
    },
    {
     "name": "stderr",
     "output_type": "stream",
     "text": [
      "C:\\Users\\danie\\anaconda3\\envs\\yingning\\lib\\site-packages\\sklearn\\neural_network\\_multilayer_perceptron.py:691: ConvergenceWarning: Stochastic Optimizer: Maximum iterations (5000) reached and the optimization hasn't converged yet.\n",
      "  warnings.warn(\n"
     ]
    },
    {
     "name": "stdout",
     "output_type": "stream",
     "text": [
      "{'test': {'r2': -3.364160077236117, 'rmse': 280433.43628814927},\n",
      " 'train': {'r2': -3.382464796224358, 'rmse': 273166.7227482957}}\n"
     ]
    },
    {
     "name": "stderr",
     "output_type": "stream",
     "text": [
      "C:\\Users\\danie\\anaconda3\\envs\\yingning\\lib\\site-packages\\sklearn\\neural_network\\_multilayer_perceptron.py:691: ConvergenceWarning: Stochastic Optimizer: Maximum iterations (5000) reached and the optimization hasn't converged yet.\n",
      "  warnings.warn(\n"
     ]
    },
    {
     "name": "stdout",
     "output_type": "stream",
     "text": [
      "{'test': {'r2': -3.364779337709712, 'rmse': 280453.33188998705},\n",
      " 'train': {'r2': -3.383103593536612, 'rmse': 273186.63070170325}}\n"
     ]
    },
    {
     "name": "stderr",
     "output_type": "stream",
     "text": [
      "C:\\Users\\danie\\anaconda3\\envs\\yingning\\lib\\site-packages\\sklearn\\neural_network\\_multilayer_perceptron.py:691: ConvergenceWarning: Stochastic Optimizer: Maximum iterations (5000) reached and the optimization hasn't converged yet.\n",
      "  warnings.warn(\n"
     ]
    },
    {
     "name": "stdout",
     "output_type": "stream",
     "text": [
      "{'test': {'r2': -3.3643020828370416, 'rmse': 280437.99876912934},\n",
      " 'train': {'r2': -3.382611281777346, 'rmse': 273171.28806095954}}\n",
      "{'test': {'r2': 0.8863801550267246, 'rmse': 45096.00713286587},\n",
      " 'train': {'r2': 0.9048792649866445, 'rmse': 39832.921691529555}}\n",
      "{'test': {'r2': 0.8460805724535885, 'rmse': 52487.72073481508},\n",
      " 'train': {'r2': 0.9512281991484771, 'rmse': 28522.590031076426}}\n",
      "{'test': {'r2': 0.8647249631548104, 'rmse': 49206.19969164197},\n",
      " 'train': {'r2': 0.8674453689889114, 'rmse': 47022.09951953239}}\n",
      "{'test': {'r2': 0.8498219785223385, 'rmse': 51845.87202541328},\n",
      " 'train': {'r2': 0.9469010680442891, 'rmse': 29760.99566431583}}\n",
      "{'test': {'r2': 0.9056257887643686, 'rmse': 41238.81003513158},\n",
      " 'train': {'r2': 0.8814825344661965, 'rmse': 44922.069155477184}}\n",
      "{'test': {'r2': 0.9090706739112044, 'rmse': 40479.15553277095},\n",
      " 'train': {'r2': 0.9491197312141618, 'rmse': 29433.59248840661}}\n",
      "{'test': {'r2': 0.9108756744449824, 'rmse': 40075.374157010534},\n",
      " 'train': {'r2': 0.8770710645735028, 'rmse': 45750.477858500686}}\n",
      "{'test': {'r2': 0.9142328229067967, 'rmse': 39313.34663254556},\n",
      " 'train': {'r2': 0.9459879727226405, 'rmse': 30325.908022050608}}\n"
     ]
    },
    {
     "name": "stderr",
     "output_type": "stream",
     "text": [
      "C:\\Users\\danie\\anaconda3\\envs\\yingning\\lib\\site-packages\\sklearn\\neural_network\\_multilayer_perceptron.py:691: ConvergenceWarning: Stochastic Optimizer: Maximum iterations (5000) reached and the optimization hasn't converged yet.\n",
      "  warnings.warn(\n"
     ]
    },
    {
     "name": "stdout",
     "output_type": "stream",
     "text": [
      "{'test': {'r2': -3.3650097214719112, 'rmse': 279514.02362505055},\n",
      " 'train': {'r2': -3.3859561182560682, 'rmse': 270480.9635446136}}\n"
     ]
    },
    {
     "name": "stderr",
     "output_type": "stream",
     "text": [
      "C:\\Users\\danie\\anaconda3\\envs\\yingning\\lib\\site-packages\\sklearn\\neural_network\\_multilayer_perceptron.py:691: ConvergenceWarning: Stochastic Optimizer: Maximum iterations (5000) reached and the optimization hasn't converged yet.\n",
      "  warnings.warn(\n"
     ]
    },
    {
     "name": "stdout",
     "output_type": "stream",
     "text": [
      "{'test': {'r2': -3.3645461189570645, 'rmse': 279499.1798041356},\n",
      " 'train': {'r2': -3.3854743932083906, 'rmse': 270466.1091970666}}\n"
     ]
    },
    {
     "name": "stderr",
     "output_type": "stream",
     "text": [
      "C:\\Users\\danie\\anaconda3\\envs\\yingning\\lib\\site-packages\\sklearn\\neural_network\\_multilayer_perceptron.py:691: ConvergenceWarning: Stochastic Optimizer: Maximum iterations (5000) reached and the optimization hasn't converged yet.\n",
      "  warnings.warn(\n"
     ]
    },
    {
     "name": "stdout",
     "output_type": "stream",
     "text": [
      "{'test': {'r2': -3.3649584156493972, 'rmse': 279512.38093237154},\n",
      " 'train': {'r2': -3.385902806801572, 'rmse': 270479.3196866942}}\n"
     ]
    },
    {
     "name": "stderr",
     "output_type": "stream",
     "text": [
      "C:\\Users\\danie\\anaconda3\\envs\\yingning\\lib\\site-packages\\sklearn\\neural_network\\_multilayer_perceptron.py:691: ConvergenceWarning: Stochastic Optimizer: Maximum iterations (5000) reached and the optimization hasn't converged yet.\n",
      "  warnings.warn(\n"
     ]
    },
    {
     "name": "stdout",
     "output_type": "stream",
     "text": [
      "{'test': {'r2': -3.364658784488788, 'rmse': 279502.7872491751},\n",
      " 'train': {'r2': -3.385591462812018, 'rmse': 270469.7191997766}}\n"
     ]
    },
    {
     "name": "stderr",
     "output_type": "stream",
     "text": [
      "C:\\Users\\danie\\anaconda3\\envs\\yingning\\lib\\site-packages\\sklearn\\neural_network\\_multilayer_perceptron.py:691: ConvergenceWarning: Stochastic Optimizer: Maximum iterations (5000) reached and the optimization hasn't converged yet.\n",
      "  warnings.warn(\n"
     ]
    },
    {
     "name": "stdout",
     "output_type": "stream",
     "text": [
      "{'test': {'r2': -3.3646324043486944, 'rmse': 280448.6113423625},\n",
      " 'train': {'r2': -3.3829520244870848, 'rmse': 273181.9072226609}}\n"
     ]
    },
    {
     "name": "stderr",
     "output_type": "stream",
     "text": [
      "C:\\Users\\danie\\anaconda3\\envs\\yingning\\lib\\site-packages\\sklearn\\neural_network\\_multilayer_perceptron.py:691: ConvergenceWarning: Stochastic Optimizer: Maximum iterations (5000) reached and the optimization hasn't converged yet.\n",
      "  warnings.warn(\n"
     ]
    },
    {
     "name": "stdout",
     "output_type": "stream",
     "text": [
      "{'test': {'r2': -3.3642219484312754, 'rmse': 280435.42414950894},\n",
      " 'train': {'r2': -3.382528619303872, 'rmse': 273168.71184333717}}\n"
     ]
    },
    {
     "name": "stderr",
     "output_type": "stream",
     "text": [
      "C:\\Users\\danie\\anaconda3\\envs\\yingning\\lib\\site-packages\\sklearn\\neural_network\\_multilayer_perceptron.py:691: ConvergenceWarning: Stochastic Optimizer: Maximum iterations (5000) reached and the optimization hasn't converged yet.\n",
      "  warnings.warn(\n"
     ]
    },
    {
     "name": "stdout",
     "output_type": "stream",
     "text": [
      "{'test': {'r2': -3.3646144421633277, 'rmse': 280448.03426339466},\n",
      " 'train': {'r2': -3.3829334956079045, 'rmse': 273181.3297853681}}\n",
      "{'test': {'r2': -3.3643489798436494, 'rmse': 280439.5055011453},\n",
      " 'train': {'r2': -3.3826596582949007, 'rmse': 273172.79572822625}}\n"
     ]
    },
    {
     "name": "stderr",
     "output_type": "stream",
     "text": [
      "C:\\Users\\danie\\anaconda3\\envs\\yingning\\lib\\site-packages\\sklearn\\neural_network\\_multilayer_perceptron.py:691: ConvergenceWarning: Stochastic Optimizer: Maximum iterations (5000) reached and the optimization hasn't converged yet.\n",
      "  warnings.warn(\n"
     ]
    }
   ],
   "source": [
    "for hidden_layer_sizes in hidden_layer_sizeses:\n",
    "    for alpha in alphas:\n",
    "        for activation in activations:\n",
    "            reses = {}\n",
    "            for dataset_config in dataset_configs:\n",
    "                res = model_func(\n",
    "                    fetch_selected_dataset(*dataset_config), \n",
    "                    hidden_layer_sizes=hidden_layer_sizes,\n",
    "                    alpha=alpha,\n",
    "                    activation=activation\n",
    "                )\n",
    "                reses[str(dataset_config)] = res\n",
    "                pprint(res['score'])\n",
    "            save_reses(reses, folder_name.format(hidden_layer_sizes=hidden_layer_sizes, alpha=alpha, activation=activation))"
   ]
  },
  {
   "cell_type": "code",
   "execution_count": null,
   "id": "b2e41598",
   "metadata": {},
   "outputs": [],
   "source": []
  }
 ],
 "metadata": {
  "kernelspec": {
   "display_name": "Python 3 (ipykernel)",
   "language": "python",
   "name": "python3"
  },
  "language_info": {
   "codemirror_mode": {
    "name": "ipython",
    "version": 3
   },
   "file_extension": ".py",
   "mimetype": "text/x-python",
   "name": "python",
   "nbconvert_exporter": "python",
   "pygments_lexer": "ipython3",
   "version": "3.10.12"
  }
 },
 "nbformat": 4,
 "nbformat_minor": 5
}
