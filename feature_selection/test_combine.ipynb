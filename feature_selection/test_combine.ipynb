{
 "cells": [
  {
   "cell_type": "code",
   "execution_count": 1,
   "id": "7ecbefcf",
   "metadata": {},
   "outputs": [],
   "source": [
    "import sys\n",
    "sys.path.append('C:/Users/danie/Desktop/yingning')\n",
    "\n",
    "import plotly.express as px\n",
    "import pandas as pd\n",
    "import numpy as np\n",
    "\n",
    "from data_utils import fetch_usable_data, time_shift, split\n",
    "from models import lr, tree, lasso"
   ]
  },
  {
   "cell_type": "code",
   "execution_count": 2,
   "id": "9b1b53f2",
   "metadata": {},
   "outputs": [],
   "source": [
    "data = fetch_usable_data(sum_cols=['crime', 'ghg'])\n",
    "kept = {\n",
    "    'const',\n",
    "    'crime_total',\n",
    "    'gcse',\n",
    "    'ghg_total',\n",
    "    'gva_ABDE',\n",
    "    'gva_C',\n",
    "    'gva_F',\n",
    "    'gva_G',\n",
    "    'gva_H',\n",
    "    'gva_K',\n",
    "    'gva_N',\n",
    "    'gva_Q',\n",
    "    'road-length',\n",
    "    'tax',\n",
    "    'unemployment'\n",
    "}\n",
    "data = data[list(kept) + ['population']]"
   ]
  },
  {
   "cell_type": "code",
   "execution_count": 3,
   "id": "5605cd92",
   "metadata": {},
   "outputs": [],
   "source": [
    "shifted = time_shift(data, lags=[1, 2], forwards=[0])\n",
    "shifted = shifted.drop(shifted.columns[shifted.columns.str.contains('population_{t-')].tolist(), axis=1)"
   ]
  },
  {
   "cell_type": "code",
   "execution_count": 4,
   "id": "94ee5b1f",
   "metadata": {},
   "outputs": [],
   "source": [
    "dataset = split(shifted, 'population_{t+0}', standardise=True)"
   ]
  },
  {
   "cell_type": "code",
   "execution_count": 5,
   "id": "189284a6",
   "metadata": {},
   "outputs": [
    {
     "data": {
      "text/plain": [
       "{'train': {'rmse': 39683.10407377662, 'r2': 0.9082359768726733},\n",
       " 'test': {'rmse': 51547.89316795494, 'r2': 0.857545805398568}}"
      ]
     },
     "execution_count": 5,
     "metadata": {},
     "output_type": "execute_result"
    }
   ],
   "source": [
    "lr(dataset)['score']"
   ]
  },
  {
   "cell_type": "code",
   "execution_count": 6,
   "id": "1fed047c",
   "metadata": {},
   "outputs": [
    {
     "data": {
      "text/plain": [
       "{'train': {'rmse': 0.0, 'r2': 1.0},\n",
       " 'test': {'rmse': 43126.11484519233, 'r2': 0.9002910662025607}}"
      ]
     },
     "execution_count": 6,
     "metadata": {},
     "output_type": "execute_result"
    }
   ],
   "source": [
    "tree(dataset)['score']"
   ]
  },
  {
   "cell_type": "code",
   "execution_count": 7,
   "id": "c89b3804",
   "metadata": {},
   "outputs": [
    {
     "data": {
      "text/plain": [
       "{'train': {'rmse': 39800.741059361826, 'r2': 0.9076911181229413},\n",
       " 'test': {'rmse': 50981.47691260801, 'r2': 0.8606592231681364}}"
      ]
     },
     "execution_count": 7,
     "metadata": {},
     "output_type": "execute_result"
    }
   ],
   "source": [
    "lasso(dataset, alpha=50)['score']"
   ]
  },
  {
   "cell_type": "code",
   "execution_count": null,
   "id": "99a56f68",
   "metadata": {},
   "outputs": [],
   "source": []
  }
 ],
 "metadata": {
  "kernelspec": {
   "display_name": "Python 3 (ipykernel)",
   "language": "python",
   "name": "python3"
  },
  "language_info": {
   "codemirror_mode": {
    "name": "ipython",
    "version": 3
   },
   "file_extension": ".py",
   "mimetype": "text/x-python",
   "name": "python",
   "nbconvert_exporter": "python",
   "pygments_lexer": "ipython3",
   "version": "3.10.12"
  }
 },
 "nbformat": 4,
 "nbformat_minor": 5
}
